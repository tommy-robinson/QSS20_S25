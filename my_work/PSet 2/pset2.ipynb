{
 "cells": [
  {
   "cell_type": "markdown",
   "metadata": {},
   "source": [
    "## Problem Set 2: Merging and regular expressions\n",
    "\n",
    "**Total points (without extra credit)**: 30 \n",
    "\n",
    "**Background on the policy context**: here, we're going to use two datasets to practice reshaping, merging, and regular expression patterns. Both datasets relate to the broader issue of which employers might be violating the rights of temporary guestworkers granted visas under the H-2A program. Here are some articles about potential exploitation of guestworkers by firms and inequality caused by minimal oversight:\n",
    "\n",
    "- News media coverage of labor abuses of temporary guestworkers: https://www.buzzfeednews.com/article/kenbensinger/the-pushovers \n",
    "- GAO report on labor abuses of temporary guestworkers: https://www.gao.gov/products/gao-15-154\n",
    "\n",
    "The following datasets are located in `pset2_inputdata` (need to unzip): \n",
    "\n",
    "- `jobs_clean`: a dataset of guestworker jobs posted by many employers, some of whom have been debarred (banned) from the program for labor abuses; others not debarred\n",
    "- `debar`: a dataset of employers who committed violations of labor regulations meant to protect temporary guestworkers \n",
    "\n",
    "\n",
    "You can view a codebook here: https://docs.google.com/spreadsheets/d/1rF9GJEC8pPKxipD0TsoG9DVdqz3EJ-b-BHEtyioAX7I/edit?usp=sharing\n"
   ]
  },
  {
   "cell_type": "code",
   "execution_count": 27,
   "metadata": {},
   "outputs": [],
   "source": [
    "## helpful packages\n",
    "import pandas as pd\n",
    "import numpy as np\n",
    "import random\n",
    "import re\n",
    "import os\n",
    "\n",
    "## repeated printouts\n",
    "from IPython.core.interactiveshell import InteractiveShell\n",
    "InteractiveShell.ast_node_interactivity = \"all\"\n"
   ]
  },
  {
   "cell_type": "markdown",
   "metadata": {},
   "source": [
    "# 1. Reshaping data (13 points total)"
   ]
  },
  {
   "cell_type": "markdown",
   "metadata": {},
   "source": [
    "Load the following dataset stored in `pset2_inputdata`: `debar.csv`\n",
    "\n",
    "This represents employers temporarily banned from hiring workers (debar.csv); call this `debar`\n",
    "\n",
    "\n",
    "View the head()\n"
   ]
  },
  {
   "cell_type": "code",
   "execution_count": 28,
   "metadata": {},
   "outputs": [
    {
     "data": {
      "text/html": [
       "<div>\n",
       "<style scoped>\n",
       "    .dataframe tbody tr th:only-of-type {\n",
       "        vertical-align: middle;\n",
       "    }\n",
       "\n",
       "    .dataframe tbody tr th {\n",
       "        vertical-align: top;\n",
       "    }\n",
       "\n",
       "    .dataframe thead th {\n",
       "        text-align: right;\n",
       "    }\n",
       "</style>\n",
       "<table border=\"1\" class=\"dataframe\">\n",
       "  <thead>\n",
       "    <tr style=\"text-align: right;\">\n",
       "      <th></th>\n",
       "      <th>Name</th>\n",
       "      <th>City, State</th>\n",
       "      <th>Violation</th>\n",
       "      <th>Duration</th>\n",
       "      <th>Start date</th>\n",
       "      <th>End date</th>\n",
       "    </tr>\n",
       "  </thead>\n",
       "  <tbody>\n",
       "    <tr>\n",
       "      <th>0</th>\n",
       "      <td>J&amp;J Harvesting</td>\n",
       "      <td>Leads, ND</td>\n",
       "      <td>Failure to respond to audit (partial response)</td>\n",
       "      <td>2 years</td>\n",
       "      <td>1/19/2014</td>\n",
       "      <td>1/18/2016</td>\n",
       "    </tr>\n",
       "    <tr>\n",
       "      <th>1</th>\n",
       "      <td>Stahlman Apiaries, Inc</td>\n",
       "      <td>Selby, SD</td>\n",
       "      <td>Failure to respond to audit (partial response)</td>\n",
       "      <td>1 year</td>\n",
       "      <td>2/19/2015</td>\n",
       "      <td>2/14/2016</td>\n",
       "    </tr>\n",
       "    <tr>\n",
       "      <th>2</th>\n",
       "      <td>Trust Nursery</td>\n",
       "      <td>Pulaski, NY</td>\n",
       "      <td>Failure to respond to audit (partial response)</td>\n",
       "      <td>1 year</td>\n",
       "      <td>3/21/2014</td>\n",
       "      <td>3/20/2015</td>\n",
       "    </tr>\n",
       "    <tr>\n",
       "      <th>3</th>\n",
       "      <td>Anton Fertilizer Inc.</td>\n",
       "      <td>Dighton, KS</td>\n",
       "      <td>Failure to respond to audit (no response)</td>\n",
       "      <td>2 years</td>\n",
       "      <td>3/30/2014</td>\n",
       "      <td>3/29/2016</td>\n",
       "    </tr>\n",
       "    <tr>\n",
       "      <th>4</th>\n",
       "      <td>Great Plains Fluid Service, Inc.</td>\n",
       "      <td>Greensburg, KS</td>\n",
       "      <td>Failure to respond to audit (no response)</td>\n",
       "      <td>2 years</td>\n",
       "      <td>3/30/2014</td>\n",
       "      <td>3/29/2016</td>\n",
       "    </tr>\n",
       "  </tbody>\n",
       "</table>\n",
       "</div>"
      ],
      "text/plain": [
       "                               Name     City, State  \\\n",
       "0                    J&J Harvesting       Leads, ND   \n",
       "1            Stahlman Apiaries, Inc       Selby, SD   \n",
       "2                     Trust Nursery     Pulaski, NY   \n",
       "3             Anton Fertilizer Inc.     Dighton, KS   \n",
       "4  Great Plains Fluid Service, Inc.  Greensburg, KS   \n",
       "\n",
       "                                        Violation Duration Start date  \\\n",
       "0  Failure to respond to audit (partial response)  2 years  1/19/2014   \n",
       "1  Failure to respond to audit (partial response)   1 year  2/19/2015   \n",
       "2  Failure to respond to audit (partial response)   1 year  3/21/2014   \n",
       "3       Failure to respond to audit (no response)  2 years  3/30/2014   \n",
       "4       Failure to respond to audit (no response)  2 years  3/30/2014   \n",
       "\n",
       "    End date  \n",
       "0  1/18/2016  \n",
       "1  2/14/2016  \n",
       "2  3/20/2015  \n",
       "3  3/29/2016  \n",
       "4  3/29/2016  "
      ]
     },
     "execution_count": 28,
     "metadata": {},
     "output_type": "execute_result"
    }
   ],
   "source": [
    "## your code here\n",
    "debar = pd.read_csv(\"pset2_inputdata/debar.csv\")\n",
    "debar.head()"
   ]
  },
  {
   "cell_type": "markdown",
   "metadata": {},
   "source": [
    "## 1.1 (1 point)\n",
    "\n",
    "Print the number of rows in `debar` versus the number of unique employer names (`Name`). Is there one row per employer or multiple rows for some employers?"
   ]
  },
  {
   "cell_type": "code",
   "execution_count": 29,
   "metadata": {},
   "outputs": [
    {
     "data": {
      "text/plain": [
       "114"
      ]
     },
     "execution_count": 29,
     "metadata": {},
     "output_type": "execute_result"
    },
    {
     "data": {
      "text/plain": [
       "98"
      ]
     },
     "execution_count": 29,
     "metadata": {},
     "output_type": "execute_result"
    }
   ],
   "source": [
    "## your code here\n",
    "debar.shape[0]   \n",
    "debar[\"Name\"].nunique()"
   ]
  },
  {
   "cell_type": "markdown",
   "metadata": {},
   "source": [
    "## Rows vs Employers\n",
    "There are multiple rows for some employers.  There are 114 rows but only 98 unique employers."
   ]
  },
  {
   "cell_type": "markdown",
   "metadata": {},
   "source": [
    "## 1.2 Investigating duplicated rows (2 points)\n",
    "\n",
    "A. Create a new column in `debar`--`is_repeated`-- that tells us whether an employer (`Name`) is repeated > 1 times\n",
    "\n",
    "*Hint*: there are multiple ways to solve this but some possibilities to get the list of names that are repeated are:\n",
    "- Using value_counts() on the `Name` variable and extracting the index from that value counts \n",
    "- Using groupby to count the rows attached to one name\n",
    "\n",
    "B. Print the rows where `is_repeated == True` and interpret\n",
    "\n",
    "C. Subset to the rows where `is_repeated == True` and save that data as `mult_debar`. Print the head() and shape"
   ]
  },
  {
   "cell_type": "code",
   "execution_count": 30,
   "metadata": {},
   "outputs": [
    {
     "data": {
      "text/html": [
       "<div>\n",
       "<style scoped>\n",
       "    .dataframe tbody tr th:only-of-type {\n",
       "        vertical-align: middle;\n",
       "    }\n",
       "\n",
       "    .dataframe tbody tr th {\n",
       "        vertical-align: top;\n",
       "    }\n",
       "\n",
       "    .dataframe thead th {\n",
       "        text-align: right;\n",
       "    }\n",
       "</style>\n",
       "<table border=\"1\" class=\"dataframe\">\n",
       "  <thead>\n",
       "    <tr style=\"text-align: right;\">\n",
       "      <th></th>\n",
       "      <th>Name</th>\n",
       "      <th>City, State</th>\n",
       "      <th>Violation</th>\n",
       "      <th>Duration</th>\n",
       "      <th>Start date</th>\n",
       "      <th>End date</th>\n",
       "      <th>is_repeated</th>\n",
       "    </tr>\n",
       "  </thead>\n",
       "  <tbody>\n",
       "    <tr>\n",
       "      <th>6</th>\n",
       "      <td>Annabella Land &amp; Cattle</td>\n",
       "      <td>Annabella, UT</td>\n",
       "      <td>Non Payment</td>\n",
       "      <td>1 year</td>\n",
       "      <td>5/9/2014</td>\n",
       "      <td>5/9/2015</td>\n",
       "      <td>True</td>\n",
       "    </tr>\n",
       "    <tr>\n",
       "      <th>7</th>\n",
       "      <td>Autumn Hill Orchard</td>\n",
       "      <td>Groton, MA</td>\n",
       "      <td>Failure to respond to audit (no response)</td>\n",
       "      <td>2 years</td>\n",
       "      <td>7/6/2014</td>\n",
       "      <td>7/5/2016</td>\n",
       "      <td>True</td>\n",
       "    </tr>\n",
       "    <tr>\n",
       "      <th>8</th>\n",
       "      <td>Caddo Creek Ranch, dba Paradise Ranch</td>\n",
       "      <td>Caddo, TX</td>\n",
       "      <td>Failure to respond to audit (partial response)</td>\n",
       "      <td>2 years</td>\n",
       "      <td>7/20/2014</td>\n",
       "      <td>7/19/2016</td>\n",
       "      <td>True</td>\n",
       "    </tr>\n",
       "    <tr>\n",
       "      <th>11</th>\n",
       "      <td>Loewen Harvesting LLC</td>\n",
       "      <td>Brownsville, TX</td>\n",
       "      <td>Failure to respond to audit (partial response)</td>\n",
       "      <td>1 year</td>\n",
       "      <td>8/20/2014</td>\n",
       "      <td>8/19/2015</td>\n",
       "      <td>True</td>\n",
       "    </tr>\n",
       "    <tr>\n",
       "      <th>12</th>\n",
       "      <td>Rollo Farm Labor Contractor</td>\n",
       "      <td>Miami, FL</td>\n",
       "      <td>Failure to respond to audit (no response)</td>\n",
       "      <td>2 years</td>\n",
       "      <td>8/23/2014</td>\n",
       "      <td>8/22/2016</td>\n",
       "      <td>True</td>\n",
       "    </tr>\n",
       "    <tr>\n",
       "      <th>14</th>\n",
       "      <td>Sharon Mathis</td>\n",
       "      <td>Tifton, GA</td>\n",
       "      <td>Failure to respond to audit (no response)</td>\n",
       "      <td>2 years</td>\n",
       "      <td>11/16/2014</td>\n",
       "      <td>11/15/2016</td>\n",
       "      <td>True</td>\n",
       "    </tr>\n",
       "    <tr>\n",
       "      <th>15</th>\n",
       "      <td>SRT Farms</td>\n",
       "      <td>Morton, TX</td>\n",
       "      <td>Failure to respond to audit (no response)</td>\n",
       "      <td>2 years</td>\n",
       "      <td>11/16/2014</td>\n",
       "      <td>11/15/2016</td>\n",
       "      <td>True</td>\n",
       "    </tr>\n",
       "    <tr>\n",
       "      <th>16</th>\n",
       "      <td>Mark Duncan</td>\n",
       "      <td>Roosevelt, UT</td>\n",
       "      <td>Failure to respond to audit (no response)</td>\n",
       "      <td>2 years</td>\n",
       "      <td>11/16/2014</td>\n",
       "      <td>11/15/2016</td>\n",
       "      <td>True</td>\n",
       "    </tr>\n",
       "    <tr>\n",
       "      <th>17</th>\n",
       "      <td>Maple Ridge Custom Services, LLC</td>\n",
       "      <td>Altheimer, AK</td>\n",
       "      <td>Failure to respond to audit (partial response)</td>\n",
       "      <td>2 years</td>\n",
       "      <td>11/16/2014</td>\n",
       "      <td>11/15/2016</td>\n",
       "      <td>True</td>\n",
       "    </tr>\n",
       "    <tr>\n",
       "      <th>18</th>\n",
       "      <td>F&amp;W Farms</td>\n",
       "      <td>Ingalls, KS</td>\n",
       "      <td>Failure to respond to audit (partial response)</td>\n",
       "      <td>2 years</td>\n",
       "      <td>12/10/2014</td>\n",
       "      <td>12/9/2016</td>\n",
       "      <td>True</td>\n",
       "    </tr>\n",
       "    <tr>\n",
       "      <th>19</th>\n",
       "      <td>Cisco Produce Inc.</td>\n",
       "      <td>Cairo, GA</td>\n",
       "      <td>Failure to respond to audit (no response)</td>\n",
       "      <td>2 years</td>\n",
       "      <td>12/10/2014</td>\n",
       "      <td>12/9/2016</td>\n",
       "      <td>True</td>\n",
       "    </tr>\n",
       "    <tr>\n",
       "      <th>21</th>\n",
       "      <td>Old Tree Farms/Verpaalen Custom Service</td>\n",
       "      <td>Volga, SD</td>\n",
       "      <td>WHD Debarment</td>\n",
       "      <td>3 years</td>\n",
       "      <td>12/11/2014</td>\n",
       "      <td>12/10/2017</td>\n",
       "      <td>True</td>\n",
       "    </tr>\n",
       "    <tr>\n",
       "      <th>24</th>\n",
       "      <td>Rollo Farm Labor Contractor</td>\n",
       "      <td>Miami, FL</td>\n",
       "      <td>Impeding the Audit Process – Non- Response</td>\n",
       "      <td>2 years</td>\n",
       "      <td>8/23/2014</td>\n",
       "      <td>8/22/2016</td>\n",
       "      <td>True</td>\n",
       "    </tr>\n",
       "    <tr>\n",
       "      <th>25</th>\n",
       "      <td>Loewen Harvesting LLC</td>\n",
       "      <td>Brownfield, TX</td>\n",
       "      <td>Impeding the Audit Process – Partial- Response</td>\n",
       "      <td>1 year</td>\n",
       "      <td>8/20/2014</td>\n",
       "      <td>8/19/2015</td>\n",
       "      <td>True</td>\n",
       "    </tr>\n",
       "    <tr>\n",
       "      <th>28</th>\n",
       "      <td>Caddo Creek Ranch, dba Paradise Ranch</td>\n",
       "      <td>Caddo, Texas</td>\n",
       "      <td>Impeding the Audit Process – Partial- Response</td>\n",
       "      <td>2 years</td>\n",
       "      <td>7/20/2014</td>\n",
       "      <td>7/19/2016</td>\n",
       "      <td>True</td>\n",
       "    </tr>\n",
       "    <tr>\n",
       "      <th>29</th>\n",
       "      <td>Autumn Hill Orchard</td>\n",
       "      <td>Groton, MA</td>\n",
       "      <td>Impeding the Audit Process – Non- Response</td>\n",
       "      <td>2 years</td>\n",
       "      <td>7/6/2014</td>\n",
       "      <td>7/5/2016</td>\n",
       "      <td>True</td>\n",
       "    </tr>\n",
       "    <tr>\n",
       "      <th>30</th>\n",
       "      <td>Annabella Land &amp; Cattle</td>\n",
       "      <td>Annabella, Utah</td>\n",
       "      <td>Non-payment</td>\n",
       "      <td>1 year</td>\n",
       "      <td>5/9/2014</td>\n",
       "      <td>5/8/2015</td>\n",
       "      <td>True</td>\n",
       "    </tr>\n",
       "    <tr>\n",
       "      <th>31</th>\n",
       "      <td>Macky and Brad Farms</td>\n",
       "      <td>Plains, TX</td>\n",
       "      <td>Failure to respond to audit (no response)</td>\n",
       "      <td>1 year</td>\n",
       "      <td>2/13/2015</td>\n",
       "      <td>2/12/2016</td>\n",
       "      <td>True</td>\n",
       "    </tr>\n",
       "    <tr>\n",
       "      <th>51</th>\n",
       "      <td>Old Tree Farms/Verpaalen Custom Service</td>\n",
       "      <td>Volga, SD</td>\n",
       "      <td>Wage Hour Debarment</td>\n",
       "      <td>3 years</td>\n",
       "      <td>12/1/2014</td>\n",
       "      <td>12/1/2017</td>\n",
       "      <td>True</td>\n",
       "    </tr>\n",
       "    <tr>\n",
       "      <th>55</th>\n",
       "      <td>Macky and Brad Farms</td>\n",
       "      <td>Plains, TX</td>\n",
       "      <td>Impeding the Audit Process – Partial- Response</td>\n",
       "      <td>1 year</td>\n",
       "      <td>2/13/2015</td>\n",
       "      <td>2/12/2016</td>\n",
       "      <td>True</td>\n",
       "    </tr>\n",
       "    <tr>\n",
       "      <th>56</th>\n",
       "      <td>Cisco Produce Inc.</td>\n",
       "      <td>Cairo, GA</td>\n",
       "      <td>Impeding the Audit Process – Non- Response</td>\n",
       "      <td>2 years</td>\n",
       "      <td>12/10/2015</td>\n",
       "      <td>12/9/2017</td>\n",
       "      <td>True</td>\n",
       "    </tr>\n",
       "    <tr>\n",
       "      <th>58</th>\n",
       "      <td>F&amp;W Farms</td>\n",
       "      <td>Ingalls, KS</td>\n",
       "      <td>Impeding the Audit Process – Partial- Response</td>\n",
       "      <td>1 year</td>\n",
       "      <td>12/10/2014</td>\n",
       "      <td>12/9/2015</td>\n",
       "      <td>True</td>\n",
       "    </tr>\n",
       "    <tr>\n",
       "      <th>59</th>\n",
       "      <td>Maple Ridge Custom Services, LLC</td>\n",
       "      <td>Altheimer, AR</td>\n",
       "      <td>Impeding the Audit Process – Partial- Response</td>\n",
       "      <td>1 year</td>\n",
       "      <td>11/16/2014</td>\n",
       "      <td>11/15/2015</td>\n",
       "      <td>True</td>\n",
       "    </tr>\n",
       "    <tr>\n",
       "      <th>60</th>\n",
       "      <td>Mark Duncan</td>\n",
       "      <td>Roosevelt, UT</td>\n",
       "      <td>Impeding the Audit Process – Non- Response</td>\n",
       "      <td>2 years</td>\n",
       "      <td>11/16/2014</td>\n",
       "      <td>11/15/2016</td>\n",
       "      <td>True</td>\n",
       "    </tr>\n",
       "    <tr>\n",
       "      <th>61</th>\n",
       "      <td>SRT Farms</td>\n",
       "      <td>Morton, TX</td>\n",
       "      <td>Impeding the Audit Process – Non- Response</td>\n",
       "      <td>2 years</td>\n",
       "      <td>11/16/2014</td>\n",
       "      <td>11/15/2016</td>\n",
       "      <td>True</td>\n",
       "    </tr>\n",
       "    <tr>\n",
       "      <th>62</th>\n",
       "      <td>Sharon Mathis</td>\n",
       "      <td>Tifton, GA</td>\n",
       "      <td>Impeding the Audit Process – Non- Response</td>\n",
       "      <td>2 years</td>\n",
       "      <td>11/16/2014</td>\n",
       "      <td>11/15/2016</td>\n",
       "      <td>True</td>\n",
       "    </tr>\n",
       "    <tr>\n",
       "      <th>73</th>\n",
       "      <td>Xavier Horne</td>\n",
       "      <td>Lyons, Georgia</td>\n",
       "      <td>Non-payment of certification fee</td>\n",
       "      <td>1 year</td>\n",
       "      <td>6/16/2016</td>\n",
       "      <td>6/15/2017</td>\n",
       "      <td>True</td>\n",
       "    </tr>\n",
       "    <tr>\n",
       "      <th>89</th>\n",
       "      <td>Xavier Horne</td>\n",
       "      <td>Lyons, Georgia</td>\n",
       "      <td>Failure to respond to audit request</td>\n",
       "      <td>2 years</td>\n",
       "      <td>9/27/2017</td>\n",
       "      <td>9/26/2019</td>\n",
       "      <td>True</td>\n",
       "    </tr>\n",
       "    <tr>\n",
       "      <th>103</th>\n",
       "      <td>Dove Creek Farms</td>\n",
       "      <td>Mount Vernon, TX</td>\n",
       "      <td>Failure to respond to audit request</td>\n",
       "      <td>2 years</td>\n",
       "      <td>2/9/2018</td>\n",
       "      <td>2/8/2018</td>\n",
       "      <td>True</td>\n",
       "    </tr>\n",
       "    <tr>\n",
       "      <th>106</th>\n",
       "      <td>Turner Farms</td>\n",
       "      <td>Healy, KS</td>\n",
       "      <td>Failure to comply with the employer's obligati...</td>\n",
       "      <td>6 months</td>\n",
       "      <td>7/17/19</td>\n",
       "      <td>2/10/2020</td>\n",
       "      <td>True</td>\n",
       "    </tr>\n",
       "    <tr>\n",
       "      <th>109</th>\n",
       "      <td>Dove Creek Farms</td>\n",
       "      <td>Mount Vernon, TX</td>\n",
       "      <td>Failure to Respond to Audit Request</td>\n",
       "      <td>2 years</td>\n",
       "      <td>2/9/2018</td>\n",
       "      <td>2/8/2020</td>\n",
       "      <td>True</td>\n",
       "    </tr>\n",
       "    <tr>\n",
       "      <th>111</th>\n",
       "      <td>Turner Farms</td>\n",
       "      <td>Healy, KS</td>\n",
       "      <td>Failure to comply with the employer's obligati...</td>\n",
       "      <td>7 months</td>\n",
       "      <td>7/17/19</td>\n",
       "      <td>2/10/20</td>\n",
       "      <td>True</td>\n",
       "    </tr>\n",
       "  </tbody>\n",
       "</table>\n",
       "</div>"
      ],
      "text/plain": [
       "                                        Name       City, State  \\\n",
       "6                    Annabella Land & Cattle     Annabella, UT   \n",
       "7                        Autumn Hill Orchard        Groton, MA   \n",
       "8      Caddo Creek Ranch, dba Paradise Ranch         Caddo, TX   \n",
       "11                     Loewen Harvesting LLC   Brownsville, TX   \n",
       "12               Rollo Farm Labor Contractor         Miami, FL   \n",
       "14                             Sharon Mathis        Tifton, GA   \n",
       "15                                 SRT Farms        Morton, TX   \n",
       "16                               Mark Duncan     Roosevelt, UT   \n",
       "17          Maple Ridge Custom Services, LLC     Altheimer, AK   \n",
       "18                                 F&W Farms       Ingalls, KS   \n",
       "19                        Cisco Produce Inc.         Cairo, GA   \n",
       "21   Old Tree Farms/Verpaalen Custom Service         Volga, SD   \n",
       "24               Rollo Farm Labor Contractor         Miami, FL   \n",
       "25                     Loewen Harvesting LLC    Brownfield, TX   \n",
       "28     Caddo Creek Ranch, dba Paradise Ranch      Caddo, Texas   \n",
       "29                       Autumn Hill Orchard        Groton, MA   \n",
       "30                   Annabella Land & Cattle   Annabella, Utah   \n",
       "31                      Macky and Brad Farms        Plains, TX   \n",
       "51   Old Tree Farms/Verpaalen Custom Service         Volga, SD   \n",
       "55                      Macky and Brad Farms        Plains, TX   \n",
       "56                        Cisco Produce Inc.         Cairo, GA   \n",
       "58                                 F&W Farms       Ingalls, KS   \n",
       "59          Maple Ridge Custom Services, LLC     Altheimer, AR   \n",
       "60                               Mark Duncan     Roosevelt, UT   \n",
       "61                                 SRT Farms        Morton, TX   \n",
       "62                             Sharon Mathis        Tifton, GA   \n",
       "73                              Xavier Horne    Lyons, Georgia   \n",
       "89                              Xavier Horne    Lyons, Georgia   \n",
       "103                         Dove Creek Farms  Mount Vernon, TX   \n",
       "106                             Turner Farms         Healy, KS   \n",
       "109                         Dove Creek Farms  Mount Vernon, TX   \n",
       "111                             Turner Farms         Healy, KS   \n",
       "\n",
       "                                             Violation  Duration  Start date  \\\n",
       "6                                          Non Payment    1 year    5/9/2014   \n",
       "7            Failure to respond to audit (no response)   2 years    7/6/2014   \n",
       "8       Failure to respond to audit (partial response)   2 years   7/20/2014   \n",
       "11      Failure to respond to audit (partial response)    1 year   8/20/2014   \n",
       "12           Failure to respond to audit (no response)   2 years   8/23/2014   \n",
       "14           Failure to respond to audit (no response)   2 years  11/16/2014   \n",
       "15           Failure to respond to audit (no response)   2 years  11/16/2014   \n",
       "16           Failure to respond to audit (no response)   2 years  11/16/2014   \n",
       "17      Failure to respond to audit (partial response)   2 years  11/16/2014   \n",
       "18      Failure to respond to audit (partial response)   2 years  12/10/2014   \n",
       "19           Failure to respond to audit (no response)   2 years  12/10/2014   \n",
       "21                                       WHD Debarment   3 years  12/11/2014   \n",
       "24          Impeding the Audit Process – Non- Response   2 years   8/23/2014   \n",
       "25      Impeding the Audit Process – Partial- Response    1 year   8/20/2014   \n",
       "28      Impeding the Audit Process – Partial- Response   2 years   7/20/2014   \n",
       "29          Impeding the Audit Process – Non- Response   2 years    7/6/2014   \n",
       "30                                         Non-payment    1 year    5/9/2014   \n",
       "31           Failure to respond to audit (no response)    1 year   2/13/2015   \n",
       "51                                 Wage Hour Debarment   3 years   12/1/2014   \n",
       "55      Impeding the Audit Process – Partial- Response    1 year   2/13/2015   \n",
       "56          Impeding the Audit Process – Non- Response   2 years  12/10/2015   \n",
       "58      Impeding the Audit Process – Partial- Response    1 year  12/10/2014   \n",
       "59      Impeding the Audit Process – Partial- Response    1 year  11/16/2014   \n",
       "60          Impeding the Audit Process – Non- Response   2 years  11/16/2014   \n",
       "61          Impeding the Audit Process – Non- Response   2 years  11/16/2014   \n",
       "62          Impeding the Audit Process – Non- Response   2 years  11/16/2014   \n",
       "73                    Non-payment of certification fee    1 year   6/16/2016   \n",
       "89                 Failure to respond to audit request   2 years   9/27/2017   \n",
       "103                Failure to respond to audit request   2 years    2/9/2018   \n",
       "106  Failure to comply with the employer's obligati...  6 months     7/17/19   \n",
       "109                Failure to Respond to Audit Request   2 years    2/9/2018   \n",
       "111  Failure to comply with the employer's obligati...  7 months     7/17/19   \n",
       "\n",
       "       End date  is_repeated  \n",
       "6      5/9/2015         True  \n",
       "7      7/5/2016         True  \n",
       "8     7/19/2016         True  \n",
       "11    8/19/2015         True  \n",
       "12    8/22/2016         True  \n",
       "14   11/15/2016         True  \n",
       "15   11/15/2016         True  \n",
       "16   11/15/2016         True  \n",
       "17   11/15/2016         True  \n",
       "18    12/9/2016         True  \n",
       "19    12/9/2016         True  \n",
       "21   12/10/2017         True  \n",
       "24    8/22/2016         True  \n",
       "25    8/19/2015         True  \n",
       "28    7/19/2016         True  \n",
       "29     7/5/2016         True  \n",
       "30     5/8/2015         True  \n",
       "31    2/12/2016         True  \n",
       "51    12/1/2017         True  \n",
       "55    2/12/2016         True  \n",
       "56    12/9/2017         True  \n",
       "58    12/9/2015         True  \n",
       "59   11/15/2015         True  \n",
       "60   11/15/2016         True  \n",
       "61   11/15/2016         True  \n",
       "62   11/15/2016         True  \n",
       "73    6/15/2017         True  \n",
       "89    9/26/2019         True  \n",
       "103    2/8/2018         True  \n",
       "106   2/10/2020         True  \n",
       "109    2/8/2020         True  \n",
       "111     2/10/20         True  "
      ]
     },
     "execution_count": 30,
     "metadata": {},
     "output_type": "execute_result"
    },
    {
     "data": {
      "text/html": [
       "<div>\n",
       "<style scoped>\n",
       "    .dataframe tbody tr th:only-of-type {\n",
       "        vertical-align: middle;\n",
       "    }\n",
       "\n",
       "    .dataframe tbody tr th {\n",
       "        vertical-align: top;\n",
       "    }\n",
       "\n",
       "    .dataframe thead th {\n",
       "        text-align: right;\n",
       "    }\n",
       "</style>\n",
       "<table border=\"1\" class=\"dataframe\">\n",
       "  <thead>\n",
       "    <tr style=\"text-align: right;\">\n",
       "      <th></th>\n",
       "      <th>Name</th>\n",
       "      <th>City, State</th>\n",
       "      <th>Violation</th>\n",
       "      <th>Duration</th>\n",
       "      <th>Start date</th>\n",
       "      <th>End date</th>\n",
       "      <th>is_repeated</th>\n",
       "    </tr>\n",
       "  </thead>\n",
       "  <tbody>\n",
       "    <tr>\n",
       "      <th>6</th>\n",
       "      <td>Annabella Land &amp; Cattle</td>\n",
       "      <td>Annabella, UT</td>\n",
       "      <td>Non Payment</td>\n",
       "      <td>1 year</td>\n",
       "      <td>5/9/2014</td>\n",
       "      <td>5/9/2015</td>\n",
       "      <td>True</td>\n",
       "    </tr>\n",
       "    <tr>\n",
       "      <th>7</th>\n",
       "      <td>Autumn Hill Orchard</td>\n",
       "      <td>Groton, MA</td>\n",
       "      <td>Failure to respond to audit (no response)</td>\n",
       "      <td>2 years</td>\n",
       "      <td>7/6/2014</td>\n",
       "      <td>7/5/2016</td>\n",
       "      <td>True</td>\n",
       "    </tr>\n",
       "    <tr>\n",
       "      <th>8</th>\n",
       "      <td>Caddo Creek Ranch, dba Paradise Ranch</td>\n",
       "      <td>Caddo, TX</td>\n",
       "      <td>Failure to respond to audit (partial response)</td>\n",
       "      <td>2 years</td>\n",
       "      <td>7/20/2014</td>\n",
       "      <td>7/19/2016</td>\n",
       "      <td>True</td>\n",
       "    </tr>\n",
       "    <tr>\n",
       "      <th>11</th>\n",
       "      <td>Loewen Harvesting LLC</td>\n",
       "      <td>Brownsville, TX</td>\n",
       "      <td>Failure to respond to audit (partial response)</td>\n",
       "      <td>1 year</td>\n",
       "      <td>8/20/2014</td>\n",
       "      <td>8/19/2015</td>\n",
       "      <td>True</td>\n",
       "    </tr>\n",
       "    <tr>\n",
       "      <th>12</th>\n",
       "      <td>Rollo Farm Labor Contractor</td>\n",
       "      <td>Miami, FL</td>\n",
       "      <td>Failure to respond to audit (no response)</td>\n",
       "      <td>2 years</td>\n",
       "      <td>8/23/2014</td>\n",
       "      <td>8/22/2016</td>\n",
       "      <td>True</td>\n",
       "    </tr>\n",
       "  </tbody>\n",
       "</table>\n",
       "</div>"
      ],
      "text/plain": [
       "                                     Name      City, State  \\\n",
       "6                 Annabella Land & Cattle    Annabella, UT   \n",
       "7                     Autumn Hill Orchard       Groton, MA   \n",
       "8   Caddo Creek Ranch, dba Paradise Ranch        Caddo, TX   \n",
       "11                  Loewen Harvesting LLC  Brownsville, TX   \n",
       "12            Rollo Farm Labor Contractor        Miami, FL   \n",
       "\n",
       "                                         Violation Duration Start date  \\\n",
       "6                                      Non Payment   1 year   5/9/2014   \n",
       "7        Failure to respond to audit (no response)  2 years   7/6/2014   \n",
       "8   Failure to respond to audit (partial response)  2 years  7/20/2014   \n",
       "11  Failure to respond to audit (partial response)   1 year  8/20/2014   \n",
       "12       Failure to respond to audit (no response)  2 years  8/23/2014   \n",
       "\n",
       "     End date  is_repeated  \n",
       "6    5/9/2015         True  \n",
       "7    7/5/2016         True  \n",
       "8   7/19/2016         True  \n",
       "11  8/19/2015         True  \n",
       "12  8/22/2016         True  "
      ]
     },
     "execution_count": 30,
     "metadata": {},
     "output_type": "execute_result"
    },
    {
     "data": {
      "text/plain": [
       "(32, 7)"
      ]
     },
     "execution_count": 30,
     "metadata": {},
     "output_type": "execute_result"
    }
   ],
   "source": [
    "## your code here\n",
    "repeated = debar.Name.value_counts()\n",
    "mult = []\n",
    "for x in repeated.index:\n",
    "    if repeated[x] > 1:\n",
    "        mult.append(x)\n",
    "        \n",
    "# create is_repeated column\n",
    "debar[\"is_repeated\"] = debar[\"Name\"].isin(mult)\n",
    "\n",
    "# print where is_repeated == True\n",
    "debar[debar[\"is_repeated\"]]\n",
    "\n",
    "# subset\n",
    "mult_debar = debar[debar[\"is_repeated\"]]\n",
    "mult_debar.head()\n",
    "mult_debar.shape\n"
   ]
  },
  {
   "cell_type": "markdown",
   "metadata": {},
   "source": [
    "## 1.3 Reshape mult_debar to wide to begin filtering out duplicates (4 points)\n",
    "\n",
    "You want to separate out two cases:\n",
    "\n",
    "- Cases where the repeat rows for one employer are due to duplicated data \n",
    "- Cases where the repeat rows for one employer represent repeated violations for different issues\n",
    "\n",
    "There are various ways to check duplicates in this data (eg converting `Violation` to lowercase; replacing spelled-out states with two-dig state codes)\n",
    "\n",
    "We're going to use the simple rule of:\n",
    "\n",
    "- A row is a duplicate if, within an employer (defined by Name + City, State), the Start date for each row's violation is the same \n",
    "\n",
    "To begin to check this, reshape `mult_debar` to a wide dataframe (`mult_debar_wide`) with the following columns, treating the `Name` and `City, State` as the index for the pivot:\n",
    "\n",
    "- Name\n",
    "- City, State\n",
    "- start_date_viol1\n",
    "- start_date_viol2\n",
    "\n",
    "Print the head and shape"
   ]
  },
  {
   "cell_type": "code",
   "execution_count": 31,
   "metadata": {},
   "outputs": [
    {
     "data": {
      "text/html": [
       "<div>\n",
       "<style scoped>\n",
       "    .dataframe tbody tr th:only-of-type {\n",
       "        vertical-align: middle;\n",
       "    }\n",
       "\n",
       "    .dataframe tbody tr th {\n",
       "        vertical-align: top;\n",
       "    }\n",
       "\n",
       "    .dataframe thead th {\n",
       "        text-align: right;\n",
       "    }\n",
       "</style>\n",
       "<table border=\"1\" class=\"dataframe\">\n",
       "  <thead>\n",
       "    <tr style=\"text-align: right;\">\n",
       "      <th></th>\n",
       "      <th></th>\n",
       "      <th>start_date_viol1</th>\n",
       "      <th>start_date_viol2</th>\n",
       "    </tr>\n",
       "    <tr>\n",
       "      <th>Name</th>\n",
       "      <th>City, State</th>\n",
       "      <th></th>\n",
       "      <th></th>\n",
       "    </tr>\n",
       "  </thead>\n",
       "  <tbody>\n",
       "    <tr>\n",
       "      <th>Annabella Land &amp; Cattle</th>\n",
       "      <th>Annabella, UT</th>\n",
       "      <td>5/9/2014</td>\n",
       "      <td>5/9/2014</td>\n",
       "    </tr>\n",
       "    <tr>\n",
       "      <th>Autumn Hill Orchard</th>\n",
       "      <th>Groton, MA</th>\n",
       "      <td>7/6/2014</td>\n",
       "      <td>7/6/2014</td>\n",
       "    </tr>\n",
       "    <tr>\n",
       "      <th>Caddo Creek Ranch, dba Paradise Ranch</th>\n",
       "      <th>Caddo, TX</th>\n",
       "      <td>7/20/2014</td>\n",
       "      <td>7/20/2014</td>\n",
       "    </tr>\n",
       "    <tr>\n",
       "      <th>Cisco Produce Inc.</th>\n",
       "      <th>Cairo, GA</th>\n",
       "      <td>12/10/2014</td>\n",
       "      <td>12/10/2015</td>\n",
       "    </tr>\n",
       "    <tr>\n",
       "      <th>Dove Creek Farms</th>\n",
       "      <th>Mount Vernon, TX</th>\n",
       "      <td>2/9/2018</td>\n",
       "      <td>2/9/2018</td>\n",
       "    </tr>\n",
       "  </tbody>\n",
       "</table>\n",
       "</div>"
      ],
      "text/plain": [
       "                                                       start_date_viol1  \\\n",
       "Name                                  City, State                         \n",
       "Annabella Land & Cattle               Annabella, UT            5/9/2014   \n",
       "Autumn Hill Orchard                   Groton, MA               7/6/2014   \n",
       "Caddo Creek Ranch, dba Paradise Ranch Caddo, TX               7/20/2014   \n",
       "Cisco Produce Inc.                    Cairo, GA              12/10/2014   \n",
       "Dove Creek Farms                      Mount Vernon, TX         2/9/2018   \n",
       "\n",
       "                                                       start_date_viol2  \n",
       "Name                                  City, State                        \n",
       "Annabella Land & Cattle               Annabella, UT            5/9/2014  \n",
       "Autumn Hill Orchard                   Groton, MA               7/6/2014  \n",
       "Caddo Creek Ranch, dba Paradise Ranch Caddo, TX               7/20/2014  \n",
       "Cisco Produce Inc.                    Cairo, GA              12/10/2015  \n",
       "Dove Creek Farms                      Mount Vernon, TX         2/9/2018  "
      ]
     },
     "execution_count": 31,
     "metadata": {},
     "output_type": "execute_result"
    },
    {
     "data": {
      "text/plain": [
       "(16, 2)"
      ]
     },
     "execution_count": 31,
     "metadata": {},
     "output_type": "execute_result"
    }
   ],
   "source": [
    "## your code here\n",
    "mult_debar_new = mult_debar.copy()\n",
    "state = [\"Annabella, Utah\", \"Caddo, Texas\", \"Brownsville, TX\", \"Altheimer, AK\"]\n",
    "replace_state = [\"Annabella, UT\", \"Caddo, TX\", \"Brownfield, TX\", \"Altheimer, AR\"]\n",
    "mult_debar_new[\"City, State\"] = mult_debar_new[\"City, State\"].replace(state, replace_state)\n",
    "\n",
    "mult_debar_new.loc[:,\"viol_num\"] = mult_debar_new.groupby([\"Name\", \"City, State\"]).cumcount() + 1\n",
    "mult_debar_wide = mult_debar_new.pivot_table(index=[\"Name\", \"City, State\"], columns=\"viol_num\", values=\"Start date\", aggfunc=\"first\")\n",
    "mult_debar_wide.columns = [\"start_date_viol1\", \"start_date_viol2\"]\n",
    "mult_debar_wide.head()\n",
    "mult_debar_wide.shape\n"
   ]
  },
  {
   "cell_type": "markdown",
   "metadata": {},
   "source": [
    "## 1.4 Filter out duplicates from original debar data (6 points)\n",
    "\n",
    "A. Using `mult_debar_wide`, add a column `is_dup` that takes value of True for cases where start_date_viol1 == start_date_viol2 marking the row as a duplicate\n",
    "\n",
    "B. Going back to the original long-format data you loaded at the beginning- `debar`\n",
    "    - For employers where `is_dup == True` as indicated by your wide-format dataframe, only keep `violnum == viol1`\n",
    "    - For all other employers (so is_dup == False and ones we didnt need to check duplicates for), keep all violnum\n",
    "    - Remove the `is_repeated` column from the `debar` data\n",
    "\n",
    "**Hint**: you can complete part B without a for loop; `pd.concat` with axis = 0 (row binding) is one way\n",
    "\n",
    "Call the resulting dataframe `debar_clean` and print the shape and # of unique employer names"
   ]
  },
  {
   "cell_type": "code",
   "execution_count": 32,
   "metadata": {},
   "outputs": [
    {
     "data": {
      "text/html": [
       "<div>\n",
       "<style scoped>\n",
       "    .dataframe tbody tr th:only-of-type {\n",
       "        vertical-align: middle;\n",
       "    }\n",
       "\n",
       "    .dataframe tbody tr th {\n",
       "        vertical-align: top;\n",
       "    }\n",
       "\n",
       "    .dataframe thead th {\n",
       "        text-align: right;\n",
       "    }\n",
       "</style>\n",
       "<table border=\"1\" class=\"dataframe\">\n",
       "  <thead>\n",
       "    <tr style=\"text-align: right;\">\n",
       "      <th></th>\n",
       "      <th>Name</th>\n",
       "      <th>City, State</th>\n",
       "      <th>Violation</th>\n",
       "      <th>Duration</th>\n",
       "      <th>Start date</th>\n",
       "      <th>End date</th>\n",
       "      <th>is_repeated</th>\n",
       "    </tr>\n",
       "  </thead>\n",
       "  <tbody>\n",
       "    <tr>\n",
       "      <th>6</th>\n",
       "      <td>Annabella Land &amp; Cattle</td>\n",
       "      <td>Annabella, UT</td>\n",
       "      <td>Non Payment</td>\n",
       "      <td>1 year</td>\n",
       "      <td>5/9/2014</td>\n",
       "      <td>5/9/2015</td>\n",
       "      <td>True</td>\n",
       "    </tr>\n",
       "    <tr>\n",
       "      <th>7</th>\n",
       "      <td>Autumn Hill Orchard</td>\n",
       "      <td>Groton, MA</td>\n",
       "      <td>Failure to respond to audit (no response)</td>\n",
       "      <td>2 years</td>\n",
       "      <td>7/6/2014</td>\n",
       "      <td>7/5/2016</td>\n",
       "      <td>True</td>\n",
       "    </tr>\n",
       "    <tr>\n",
       "      <th>8</th>\n",
       "      <td>Caddo Creek Ranch, dba Paradise Ranch</td>\n",
       "      <td>Caddo, TX</td>\n",
       "      <td>Failure to respond to audit (partial response)</td>\n",
       "      <td>2 years</td>\n",
       "      <td>7/20/2014</td>\n",
       "      <td>7/19/2016</td>\n",
       "      <td>True</td>\n",
       "    </tr>\n",
       "    <tr>\n",
       "      <th>11</th>\n",
       "      <td>Loewen Harvesting LLC</td>\n",
       "      <td>Brownsville, TX</td>\n",
       "      <td>Failure to respond to audit (partial response)</td>\n",
       "      <td>1 year</td>\n",
       "      <td>8/20/2014</td>\n",
       "      <td>8/19/2015</td>\n",
       "      <td>True</td>\n",
       "    </tr>\n",
       "    <tr>\n",
       "      <th>12</th>\n",
       "      <td>Rollo Farm Labor Contractor</td>\n",
       "      <td>Miami, FL</td>\n",
       "      <td>Failure to respond to audit (no response)</td>\n",
       "      <td>2 years</td>\n",
       "      <td>8/23/2014</td>\n",
       "      <td>8/22/2016</td>\n",
       "      <td>True</td>\n",
       "    </tr>\n",
       "    <tr>\n",
       "      <th>...</th>\n",
       "      <td>...</td>\n",
       "      <td>...</td>\n",
       "      <td>...</td>\n",
       "      <td>...</td>\n",
       "      <td>...</td>\n",
       "      <td>...</td>\n",
       "      <td>...</td>\n",
       "    </tr>\n",
       "    <tr>\n",
       "      <th>107</th>\n",
       "      <td>Walker Place</td>\n",
       "      <td>Danville, IL</td>\n",
       "      <td>Failure to comply with the employer's obligati...</td>\n",
       "      <td>2 months</td>\n",
       "      <td>11/19/2019</td>\n",
       "      <td>1/26/2020</td>\n",
       "      <td>False</td>\n",
       "    </tr>\n",
       "    <tr>\n",
       "      <th>108</th>\n",
       "      <td>County Fair Farm (company) and Andrew Williams...</td>\n",
       "      <td>Jefferson, ME</td>\n",
       "      <td>WHD Debarment</td>\n",
       "      <td>3 years</td>\n",
       "      <td>3/8/2017</td>\n",
       "      <td>3/8/2020</td>\n",
       "      <td>False</td>\n",
       "    </tr>\n",
       "    <tr>\n",
       "      <th>110</th>\n",
       "      <td>Jesus Ledesma</td>\n",
       "      <td>Mulberry, FL</td>\n",
       "      <td>Failure to Respond to Audit Request</td>\n",
       "      <td>2 years</td>\n",
       "      <td>2/8/18</td>\n",
       "      <td>2/8/20</td>\n",
       "      <td>False</td>\n",
       "    </tr>\n",
       "    <tr>\n",
       "      <th>112</th>\n",
       "      <td>B &amp; R Harvesting and Paul Cruz (individual)</td>\n",
       "      <td>Collins, Georgia</td>\n",
       "      <td>WHD Debarment</td>\n",
       "      <td>3 years</td>\n",
       "      <td>4/9/17</td>\n",
       "      <td>4/9/20</td>\n",
       "      <td>False</td>\n",
       "    </tr>\n",
       "    <tr>\n",
       "      <th>113</th>\n",
       "      <td>Delia Rojas</td>\n",
       "      <td>Lyons, Georgia</td>\n",
       "      <td>WHD Debarment</td>\n",
       "      <td>3 years</td>\n",
       "      <td>4/14/17</td>\n",
       "      <td>4/14/20</td>\n",
       "      <td>False</td>\n",
       "    </tr>\n",
       "  </tbody>\n",
       "</table>\n",
       "<p>105 rows × 7 columns</p>\n",
       "</div>"
      ],
      "text/plain": [
       "                                                  Name       City, State  \\\n",
       "6                              Annabella Land & Cattle     Annabella, UT   \n",
       "7                                  Autumn Hill Orchard        Groton, MA   \n",
       "8                Caddo Creek Ranch, dba Paradise Ranch         Caddo, TX   \n",
       "11                               Loewen Harvesting LLC   Brownsville, TX   \n",
       "12                         Rollo Farm Labor Contractor         Miami, FL   \n",
       "..                                                 ...               ...   \n",
       "107                                       Walker Place      Danville, IL   \n",
       "108  County Fair Farm (company) and Andrew Williams...     Jefferson, ME   \n",
       "110                                      Jesus Ledesma      Mulberry, FL   \n",
       "112        B & R Harvesting and Paul Cruz (individual)  Collins, Georgia   \n",
       "113                                        Delia Rojas    Lyons, Georgia   \n",
       "\n",
       "                                             Violation  Duration  Start date  \\\n",
       "6                                          Non Payment    1 year    5/9/2014   \n",
       "7            Failure to respond to audit (no response)   2 years    7/6/2014   \n",
       "8       Failure to respond to audit (partial response)   2 years   7/20/2014   \n",
       "11      Failure to respond to audit (partial response)    1 year   8/20/2014   \n",
       "12           Failure to respond to audit (no response)   2 years   8/23/2014   \n",
       "..                                                 ...       ...         ...   \n",
       "107  Failure to comply with the employer's obligati...  2 months  11/19/2019   \n",
       "108                                      WHD Debarment   3 years    3/8/2017   \n",
       "110                Failure to Respond to Audit Request   2 years      2/8/18   \n",
       "112                                      WHD Debarment   3 years      4/9/17   \n",
       "113                                      WHD Debarment   3 years     4/14/17   \n",
       "\n",
       "      End date  is_repeated  \n",
       "6     5/9/2015         True  \n",
       "7     7/5/2016         True  \n",
       "8    7/19/2016         True  \n",
       "11   8/19/2015         True  \n",
       "12   8/22/2016         True  \n",
       "..         ...          ...  \n",
       "107  1/26/2020        False  \n",
       "108   3/8/2020        False  \n",
       "110     2/8/20        False  \n",
       "112     4/9/20        False  \n",
       "113    4/14/20        False  \n",
       "\n",
       "[105 rows x 7 columns]"
      ]
     },
     "execution_count": 32,
     "metadata": {},
     "output_type": "execute_result"
    },
    {
     "data": {
      "text/plain": [
       "(105, 7)"
      ]
     },
     "execution_count": 32,
     "metadata": {},
     "output_type": "execute_result"
    },
    {
     "data": {
      "text/plain": [
       "98"
      ]
     },
     "execution_count": 32,
     "metadata": {},
     "output_type": "execute_result"
    }
   ],
   "source": [
    "## your code here\n",
    "# create is_dup column\n",
    "mult_debar_wide[\"is_dup\"] = mult_debar_wide[\"start_date_viol1\"] == mult_debar_wide[\"start_date_viol2\"]\n",
    "\n",
    "# create list of duplicates\n",
    "mult_debar_wide = mult_debar_wide.reset_index().set_index(\"Name\")\n",
    "dups = mult_debar_wide[mult_debar_wide[\"is_dup\"]].index\n",
    "\n",
    "# create viol_num column in debar to use when determining which rows to keep\n",
    "debar.loc[:,\"viol_num\"] = debar.groupby([\"Name\", \"City, State\"]).cumcount() + 1\n",
    "\n",
    "# keep the first violation of duplicates\n",
    "dups_keep = debar[(debar[\"Name\"].isin(dups)) & (debar[\"viol_num\"] == 1)]\n",
    "\n",
    "# keep the non duplicates\n",
    "nondups_keep = debar[~debar[\"Name\"].isin(dups)]\n",
    "\n",
    "# merge the rows you want to keep\n",
    "debar_clean = pd.concat([dups_keep, nondups_keep], axis = 0)\n",
    "\n",
    "# remove the is_repeated row\n",
    "debar = debar.drop(columns=\"is_repeated\", errors=\"ignore\")\n",
    "debar = debar.drop(columns=\"viol_num\")\n",
    "debar_clean = debar_clean.drop(columns=\"viol_num\", errors=\"ignore\")\n",
    "\n",
    "debar_clean\n",
    "\n",
    "# print num rows of the df and the number of unique names\n",
    "debar_clean.shape\n",
    "debar_clean[\"Name\"].nunique()"
   ]
  },
  {
   "cell_type": "markdown",
   "metadata": {},
   "source": [
    "# 2. Merging and regex (17 points total)\n",
    "\n"
   ]
  },
  {
   "cell_type": "markdown",
   "metadata": {},
   "source": [
    "## 2.1 Load data on job postings\n",
    "\n",
    "The previous dataset contains a small subset of employers who faced temporary bans due to violations of H-2A program regulations\n",
    "\n",
    "Since most of the bans have expired, we're going to see which of those employers posted new H-2A jobs in the first quarter of 2021 \n",
    "\n",
    "Loading the `jobs_clean.csv` data stored in `pset2_inputdata`"
   ]
  },
  {
   "cell_type": "code",
   "execution_count": 33,
   "metadata": {},
   "outputs": [],
   "source": [
    "# your code here to load the data \n",
    "\n",
    "jobs = pd.read_csv(\"pset2_inputdata/jobs.csv\")\n"
   ]
  },
  {
   "cell_type": "markdown",
   "metadata": {},
   "source": [
    "##  2.2 Try inner join on employer name  (2 points)\n",
    "\n",
    "- Use the `EMPLOYER_NAME` field of the `jobs` dataset\n",
    "- Use the `Name` field of the `debar_clean` dataset \n",
    "\n",
    "A. Use pd.merge with an inner join on those fields to see whether there are any exact matches. \n",
    "\n",
    "B. If there are exact matches, print the row(s) with exact matches\n",
    "\n"
   ]
  },
  {
   "cell_type": "code",
   "execution_count": 34,
   "metadata": {},
   "outputs": [
    {
     "data": {
      "text/html": [
       "<div>\n",
       "<style scoped>\n",
       "    .dataframe tbody tr th:only-of-type {\n",
       "        vertical-align: middle;\n",
       "    }\n",
       "\n",
       "    .dataframe tbody tr th {\n",
       "        vertical-align: top;\n",
       "    }\n",
       "\n",
       "    .dataframe thead th {\n",
       "        text-align: right;\n",
       "    }\n",
       "</style>\n",
       "<table border=\"1\" class=\"dataframe\">\n",
       "  <thead>\n",
       "    <tr style=\"text-align: right;\">\n",
       "      <th></th>\n",
       "      <th>CASE_NUMBER</th>\n",
       "      <th>CASE_STATUS</th>\n",
       "      <th>RECEIVED_DATE</th>\n",
       "      <th>DECISION_DATE</th>\n",
       "      <th>TYPE_OF_EMPLOYER_APPLICATION</th>\n",
       "      <th>H2A_LABOR_CONTRACTOR</th>\n",
       "      <th>NATURE_OF_TEMPORARY_NEED</th>\n",
       "      <th>EMERGENCY_FILING</th>\n",
       "      <th>EMPLOYER_NAME</th>\n",
       "      <th>TRADE_NAME_DBA</th>\n",
       "      <th>...</th>\n",
       "      <th>EMAIL_TO_APPLY</th>\n",
       "      <th>WEBSITE_TO_APPLY</th>\n",
       "      <th>TOTAL_ADDENDUM_A_RECORDS</th>\n",
       "      <th>Name</th>\n",
       "      <th>City, State</th>\n",
       "      <th>Violation</th>\n",
       "      <th>Duration</th>\n",
       "      <th>Start date</th>\n",
       "      <th>End date</th>\n",
       "      <th>is_repeated</th>\n",
       "    </tr>\n",
       "  </thead>\n",
       "  <tbody>\n",
       "    <tr>\n",
       "      <th>0</th>\n",
       "      <td>H-300-20287-876656</td>\n",
       "      <td>Determination Issued - Certification</td>\n",
       "      <td>2020-10-20 09:20:32.010</td>\n",
       "      <td>2020-11-09 00:00:00.000</td>\n",
       "      <td>Individual Employer</td>\n",
       "      <td>Y</td>\n",
       "      <td>Seasonal</td>\n",
       "      <td>Y</td>\n",
       "      <td>Rafael Barajas</td>\n",
       "      <td>NaN</td>\n",
       "      <td>...</td>\n",
       "      <td>NaN</td>\n",
       "      <td>https://seasonaljobs.dol.gov/</td>\n",
       "      <td>7</td>\n",
       "      <td>Rafael Barajas</td>\n",
       "      <td>Sebring, Florida</td>\n",
       "      <td>Non-payment of certification fee</td>\n",
       "      <td>1 year</td>\n",
       "      <td>9/23/2016</td>\n",
       "      <td>9/22/2017</td>\n",
       "      <td>False</td>\n",
       "    </tr>\n",
       "  </tbody>\n",
       "</table>\n",
       "<p>1 rows × 145 columns</p>\n",
       "</div>"
      ],
      "text/plain": [
       "          CASE_NUMBER                           CASE_STATUS  \\\n",
       "0  H-300-20287-876656  Determination Issued - Certification   \n",
       "\n",
       "             RECEIVED_DATE            DECISION_DATE  \\\n",
       "0  2020-10-20 09:20:32.010  2020-11-09 00:00:00.000   \n",
       "\n",
       "  TYPE_OF_EMPLOYER_APPLICATION H2A_LABOR_CONTRACTOR NATURE_OF_TEMPORARY_NEED  \\\n",
       "0          Individual Employer                    Y                 Seasonal   \n",
       "\n",
       "  EMERGENCY_FILING   EMPLOYER_NAME TRADE_NAME_DBA  ... EMAIL_TO_APPLY  \\\n",
       "0                Y  Rafael Barajas            NaN  ...            NaN   \n",
       "\n",
       "                WEBSITE_TO_APPLY TOTAL_ADDENDUM_A_RECORDS            Name  \\\n",
       "0  https://seasonaljobs.dol.gov/                        7  Rafael Barajas   \n",
       "\n",
       "        City, State                         Violation Duration  Start date  \\\n",
       "0  Sebring, Florida  Non-payment of certification fee   1 year   9/23/2016   \n",
       "\n",
       "    End date  is_repeated  \n",
       "0  9/22/2017        False  \n",
       "\n",
       "[1 rows x 145 columns]"
      ]
     },
     "execution_count": 34,
     "metadata": {},
     "output_type": "execute_result"
    }
   ],
   "source": [
    "## your code here\n",
    "merged_jobs = jobs.merge(debar_clean, left_on = \"EMPLOYER_NAME\", right_on = \"Name\", how = \"inner\")\n",
    "\n",
    "merged_jobs"
   ]
  },
  {
   "cell_type": "markdown",
   "metadata": {},
   "source": [
    "## 2.3 Targeted regex (10 points total)\n",
    "\n",
    "You want to see if you can increase the exact match rate with some basic cleaning of each \n",
    "of the employer name fields in each dataset "
   ]
  },
  {
   "cell_type": "markdown",
   "metadata": {},
   "source": [
    "### 2.3.1 Converting to upper (2 points)\n",
    "\n",
    "A. Convert the `EMPLOYER_NAME` and `Name` fields to uppercase using list comprehension rather than df.varname.str.upper() (it's fine to do a separate list comprehension line for each of the two columns)\n",
    "\n",
    "B. Print a random sample of 15 values of each result\n",
    "\n",
    "C. Assign the full vector of uppercase names back to the original data, writing over the original `EMPLOYER_NAME` and `Name` columns \n"
   ]
  },
  {
   "cell_type": "code",
   "execution_count": 35,
   "metadata": {},
   "outputs": [],
   "source": [
    "## insert your code to turn into uppercase here\n",
    "jobs_upper = [name.upper() for name in jobs['EMPLOYER_NAME']]\n",
    "debar_upper = [name.upper() for name in debar_clean['Name']]\n"
   ]
  },
  {
   "cell_type": "code",
   "execution_count": 36,
   "metadata": {},
   "outputs": [
    {
     "data": {
      "text/plain": [
       "['BAYOU FARMS BIN SERVICES & REPAIR, LLC',\n",
       " 'HONEY LAND FARMS II, LLC',\n",
       " 'HOPPER- STEPHENS HATCHERIES, INC.',\n",
       " 'JKA  CATTLE LLC',\n",
       " 'SOUTHWIND ORCHARDS',\n",
       " 'BONNIE PLANTS, INC.',\n",
       " 'AG LABOR LLC',\n",
       " 'KEN IVERSEN FARMS',\n",
       " 'VIE SAUVAGE',\n",
       " 'DUSTIN J LEBEOUF',\n",
       " 'EVERGLADES HARVESTING, INC.',\n",
       " 'CSS FARMS, LLC ',\n",
       " 'HOLBROOK SEED POTATOES, INC.',\n",
       " 'VAN RUITEN DAIRY PARTNERS',\n",
       " 'MAPLE RIDGE FRUIT FARM LLC']"
      ]
     },
     "execution_count": 36,
     "metadata": {},
     "output_type": "execute_result"
    },
    {
     "data": {
      "text/plain": [
       "['VALLEY VIEW ORCHARDS',\n",
       " 'JOHN R. COOK',\n",
       " 'LOV RANCH CO, LLLP DBA LOV RANCH',\n",
       " 'ABE- NANCY FROESE',\n",
       " 'RB FARM PICKING INC, DBA RONALD BERNARD',\n",
       " 'B & R HARVESTING AND PAUL CRUZ (INDIVIDUAL)',\n",
       " 'CITY PINESTRAW AND HARVESTING',\n",
       " 'CIRA CORTEZ LOPEZ',\n",
       " 'DAVID C. MARTINEZ',\n",
       " 'CISCO PRODUCE INC.',\n",
       " 'YOLANDA CHAVEZ FARMING',\n",
       " 'CHRIS ROBINSON',\n",
       " '69 FARMS LLC',\n",
       " 'ROSALVA GARCIA',\n",
       " 'OLD TREE FARMS/VERPAALEN CUSTOM SERVICE']"
      ]
     },
     "execution_count": 36,
     "metadata": {},
     "output_type": "execute_result"
    }
   ],
   "source": [
    "## insert your code for the random sample\n",
    "random.sample(jobs_upper, 15)\n",
    "random.sample(debar_upper, 15)"
   ]
  },
  {
   "cell_type": "code",
   "execution_count": 37,
   "metadata": {},
   "outputs": [
    {
     "data": {
      "text/html": [
       "<div>\n",
       "<style scoped>\n",
       "    .dataframe tbody tr th:only-of-type {\n",
       "        vertical-align: middle;\n",
       "    }\n",
       "\n",
       "    .dataframe tbody tr th {\n",
       "        vertical-align: top;\n",
       "    }\n",
       "\n",
       "    .dataframe thead th {\n",
       "        text-align: right;\n",
       "    }\n",
       "</style>\n",
       "<table border=\"1\" class=\"dataframe\">\n",
       "  <thead>\n",
       "    <tr style=\"text-align: right;\">\n",
       "      <th></th>\n",
       "      <th>CASE_NUMBER</th>\n",
       "      <th>CASE_STATUS</th>\n",
       "      <th>RECEIVED_DATE</th>\n",
       "      <th>DECISION_DATE</th>\n",
       "      <th>TYPE_OF_EMPLOYER_APPLICATION</th>\n",
       "      <th>H2A_LABOR_CONTRACTOR</th>\n",
       "      <th>NATURE_OF_TEMPORARY_NEED</th>\n",
       "      <th>EMERGENCY_FILING</th>\n",
       "      <th>EMPLOYER_NAME</th>\n",
       "      <th>TRADE_NAME_DBA</th>\n",
       "      <th>...</th>\n",
       "      <th>ADDENDUM_B_HOUSING_ATTACHED</th>\n",
       "      <th>TOTAL_HOUSING_RECORDS</th>\n",
       "      <th>MEALS_PROVIDED</th>\n",
       "      <th>MEALS_CHARGED</th>\n",
       "      <th>MEAL_REIMBURSEMENT_MINIMUM</th>\n",
       "      <th>MEAL_REIMBURSEMENT_MAXIMUM</th>\n",
       "      <th>PHONE_TO_APPLY</th>\n",
       "      <th>EMAIL_TO_APPLY</th>\n",
       "      <th>WEBSITE_TO_APPLY</th>\n",
       "      <th>TOTAL_ADDENDUM_A_RECORDS</th>\n",
       "    </tr>\n",
       "  </thead>\n",
       "  <tbody>\n",
       "    <tr>\n",
       "      <th>0</th>\n",
       "      <td>H-300-20199-721302</td>\n",
       "      <td>Determination Issued - Withdrawn</td>\n",
       "      <td>2020-07-17 14:50:40.840</td>\n",
       "      <td>2020-10-01 00:00:00.000</td>\n",
       "      <td>Individual Employer</td>\n",
       "      <td>N</td>\n",
       "      <td>Seasonal</td>\n",
       "      <td>Y</td>\n",
       "      <td>FAZIO FARMS OPERATING COMPANY, LLC</td>\n",
       "      <td>NaN</td>\n",
       "      <td>...</td>\n",
       "      <td>N</td>\n",
       "      <td>1</td>\n",
       "      <td>Y</td>\n",
       "      <td>12.68</td>\n",
       "      <td>12.68</td>\n",
       "      <td>55.0</td>\n",
       "      <td>13607017661</td>\n",
       "      <td>faziofarms@gmail.com</td>\n",
       "      <td>NaN</td>\n",
       "      <td>0</td>\n",
       "    </tr>\n",
       "    <tr>\n",
       "      <th>1</th>\n",
       "      <td>H-300-20231-773906</td>\n",
       "      <td>Determination Issued - Certification</td>\n",
       "      <td>2020-08-20 10:38:15.620</td>\n",
       "      <td>2020-10-01 00:00:00.000</td>\n",
       "      <td>Association - Agent</td>\n",
       "      <td>N</td>\n",
       "      <td>Seasonal</td>\n",
       "      <td>N</td>\n",
       "      <td>CHARLIE SUNDERLAND</td>\n",
       "      <td>Panter &amp; Sunderland Nursery</td>\n",
       "      <td>...</td>\n",
       "      <td>N</td>\n",
       "      <td>1</td>\n",
       "      <td>N</td>\n",
       "      <td>NaN</td>\n",
       "      <td>12.68</td>\n",
       "      <td>55.0</td>\n",
       "      <td>19318083783</td>\n",
       "      <td>NaN</td>\n",
       "      <td>https://www.jobs4tn.gov/vosnet/Default.aspx</td>\n",
       "      <td>0</td>\n",
       "    </tr>\n",
       "    <tr>\n",
       "      <th>2</th>\n",
       "      <td>H-300-20231-774123</td>\n",
       "      <td>Determination Issued - Certification</td>\n",
       "      <td>2020-08-24 15:33:14.340</td>\n",
       "      <td>2020-10-01 00:00:00.000</td>\n",
       "      <td>Individual Employer</td>\n",
       "      <td>N</td>\n",
       "      <td>Seasonal</td>\n",
       "      <td>N</td>\n",
       "      <td>MICHAEL RUDEBUSCH</td>\n",
       "      <td>NaN</td>\n",
       "      <td>...</td>\n",
       "      <td>N</td>\n",
       "      <td>1</td>\n",
       "      <td>N</td>\n",
       "      <td>NaN</td>\n",
       "      <td>12.68</td>\n",
       "      <td>55.0</td>\n",
       "      <td>19369333827</td>\n",
       "      <td>fayethlynpitre@rocketmail.com</td>\n",
       "      <td>NaN</td>\n",
       "      <td>0</td>\n",
       "    </tr>\n",
       "    <tr>\n",
       "      <th>3</th>\n",
       "      <td>H-300-20231-774151</td>\n",
       "      <td>Determination Issued - Certification</td>\n",
       "      <td>2020-08-21 12:08:09.760</td>\n",
       "      <td>2020-10-01 00:00:00.000</td>\n",
       "      <td>Individual Employer</td>\n",
       "      <td>N</td>\n",
       "      <td>Seasonal</td>\n",
       "      <td>N</td>\n",
       "      <td>LODAHL FARMS</td>\n",
       "      <td>NaN</td>\n",
       "      <td>...</td>\n",
       "      <td>Y</td>\n",
       "      <td>2</td>\n",
       "      <td>N</td>\n",
       "      <td>NaN</td>\n",
       "      <td>12.68</td>\n",
       "      <td>55.0</td>\n",
       "      <td>14069637560</td>\n",
       "      <td>lodahl_kelsey@yahoo.com</td>\n",
       "      <td>NaN</td>\n",
       "      <td>0</td>\n",
       "    </tr>\n",
       "    <tr>\n",
       "      <th>4</th>\n",
       "      <td>H-300-20231-774508</td>\n",
       "      <td>Determination Issued - Certification</td>\n",
       "      <td>2020-08-20 10:17:34.530</td>\n",
       "      <td>2020-10-01 00:00:00.000</td>\n",
       "      <td>Individual Employer</td>\n",
       "      <td>Y</td>\n",
       "      <td>Seasonal</td>\n",
       "      <td>N</td>\n",
       "      <td>DUNSON HARVESTING, INC.</td>\n",
       "      <td>Dunson Harvesting, Inc.</td>\n",
       "      <td>...</td>\n",
       "      <td>Y</td>\n",
       "      <td>8</td>\n",
       "      <td>N</td>\n",
       "      <td>NaN</td>\n",
       "      <td>12.68</td>\n",
       "      <td>55.0</td>\n",
       "      <td>18632939888</td>\n",
       "      <td>NaN</td>\n",
       "      <td>www.employflorida.com</td>\n",
       "      <td>4</td>\n",
       "    </tr>\n",
       "  </tbody>\n",
       "</table>\n",
       "<p>5 rows × 138 columns</p>\n",
       "</div>"
      ],
      "text/plain": [
       "          CASE_NUMBER                           CASE_STATUS  \\\n",
       "0  H-300-20199-721302      Determination Issued - Withdrawn   \n",
       "1  H-300-20231-773906  Determination Issued - Certification   \n",
       "2  H-300-20231-774123  Determination Issued - Certification   \n",
       "3  H-300-20231-774151  Determination Issued - Certification   \n",
       "4  H-300-20231-774508  Determination Issued - Certification   \n",
       "\n",
       "             RECEIVED_DATE            DECISION_DATE  \\\n",
       "0  2020-07-17 14:50:40.840  2020-10-01 00:00:00.000   \n",
       "1  2020-08-20 10:38:15.620  2020-10-01 00:00:00.000   \n",
       "2  2020-08-24 15:33:14.340  2020-10-01 00:00:00.000   \n",
       "3  2020-08-21 12:08:09.760  2020-10-01 00:00:00.000   \n",
       "4  2020-08-20 10:17:34.530  2020-10-01 00:00:00.000   \n",
       "\n",
       "  TYPE_OF_EMPLOYER_APPLICATION H2A_LABOR_CONTRACTOR NATURE_OF_TEMPORARY_NEED  \\\n",
       "0          Individual Employer                    N                 Seasonal   \n",
       "1          Association - Agent                    N                 Seasonal   \n",
       "2          Individual Employer                    N                 Seasonal   \n",
       "3          Individual Employer                    N                 Seasonal   \n",
       "4          Individual Employer                    Y                 Seasonal   \n",
       "\n",
       "  EMERGENCY_FILING                       EMPLOYER_NAME  \\\n",
       "0                Y  FAZIO FARMS OPERATING COMPANY, LLC   \n",
       "1                N                  CHARLIE SUNDERLAND   \n",
       "2                N                   MICHAEL RUDEBUSCH   \n",
       "3                N                        LODAHL FARMS   \n",
       "4                N             DUNSON HARVESTING, INC.   \n",
       "\n",
       "                TRADE_NAME_DBA  ... ADDENDUM_B_HOUSING_ATTACHED  \\\n",
       "0                          NaN  ...                           N   \n",
       "1  Panter & Sunderland Nursery  ...                           N   \n",
       "2                          NaN  ...                           N   \n",
       "3                          NaN  ...                           Y   \n",
       "4      Dunson Harvesting, Inc.  ...                           Y   \n",
       "\n",
       "  TOTAL_HOUSING_RECORDS MEALS_PROVIDED MEALS_CHARGED  \\\n",
       "0                     1              Y         12.68   \n",
       "1                     1              N           NaN   \n",
       "2                     1              N           NaN   \n",
       "3                     2              N           NaN   \n",
       "4                     8              N           NaN   \n",
       "\n",
       "  MEAL_REIMBURSEMENT_MINIMUM MEAL_REIMBURSEMENT_MAXIMUM PHONE_TO_APPLY  \\\n",
       "0                      12.68                       55.0    13607017661   \n",
       "1                      12.68                       55.0    19318083783   \n",
       "2                      12.68                       55.0    19369333827   \n",
       "3                      12.68                       55.0    14069637560   \n",
       "4                      12.68                       55.0    18632939888   \n",
       "\n",
       "                  EMAIL_TO_APPLY                             WEBSITE_TO_APPLY  \\\n",
       "0           faziofarms@gmail.com                                          NaN   \n",
       "1                            NaN  https://www.jobs4tn.gov/vosnet/Default.aspx   \n",
       "2  fayethlynpitre@rocketmail.com                                          NaN   \n",
       "3        lodahl_kelsey@yahoo.com                                          NaN   \n",
       "4                            NaN                        www.employflorida.com   \n",
       "\n",
       "   TOTAL_ADDENDUM_A_RECORDS  \n",
       "0                         0  \n",
       "1                         0  \n",
       "2                         0  \n",
       "3                         0  \n",
       "4                         4  \n",
       "\n",
       "[5 rows x 138 columns]"
      ]
     },
     "execution_count": 37,
     "metadata": {},
     "output_type": "execute_result"
    },
    {
     "data": {
      "text/html": [
       "<div>\n",
       "<style scoped>\n",
       "    .dataframe tbody tr th:only-of-type {\n",
       "        vertical-align: middle;\n",
       "    }\n",
       "\n",
       "    .dataframe tbody tr th {\n",
       "        vertical-align: top;\n",
       "    }\n",
       "\n",
       "    .dataframe thead th {\n",
       "        text-align: right;\n",
       "    }\n",
       "</style>\n",
       "<table border=\"1\" class=\"dataframe\">\n",
       "  <thead>\n",
       "    <tr style=\"text-align: right;\">\n",
       "      <th></th>\n",
       "      <th>Name</th>\n",
       "      <th>City, State</th>\n",
       "      <th>Violation</th>\n",
       "      <th>Duration</th>\n",
       "      <th>Start date</th>\n",
       "      <th>End date</th>\n",
       "      <th>is_repeated</th>\n",
       "    </tr>\n",
       "  </thead>\n",
       "  <tbody>\n",
       "    <tr>\n",
       "      <th>6</th>\n",
       "      <td>ANNABELLA LAND &amp; CATTLE</td>\n",
       "      <td>Annabella, UT</td>\n",
       "      <td>Non Payment</td>\n",
       "      <td>1 year</td>\n",
       "      <td>5/9/2014</td>\n",
       "      <td>5/9/2015</td>\n",
       "      <td>True</td>\n",
       "    </tr>\n",
       "    <tr>\n",
       "      <th>7</th>\n",
       "      <td>AUTUMN HILL ORCHARD</td>\n",
       "      <td>Groton, MA</td>\n",
       "      <td>Failure to respond to audit (no response)</td>\n",
       "      <td>2 years</td>\n",
       "      <td>7/6/2014</td>\n",
       "      <td>7/5/2016</td>\n",
       "      <td>True</td>\n",
       "    </tr>\n",
       "    <tr>\n",
       "      <th>8</th>\n",
       "      <td>CADDO CREEK RANCH, DBA PARADISE RANCH</td>\n",
       "      <td>Caddo, TX</td>\n",
       "      <td>Failure to respond to audit (partial response)</td>\n",
       "      <td>2 years</td>\n",
       "      <td>7/20/2014</td>\n",
       "      <td>7/19/2016</td>\n",
       "      <td>True</td>\n",
       "    </tr>\n",
       "    <tr>\n",
       "      <th>11</th>\n",
       "      <td>LOEWEN HARVESTING LLC</td>\n",
       "      <td>Brownsville, TX</td>\n",
       "      <td>Failure to respond to audit (partial response)</td>\n",
       "      <td>1 year</td>\n",
       "      <td>8/20/2014</td>\n",
       "      <td>8/19/2015</td>\n",
       "      <td>True</td>\n",
       "    </tr>\n",
       "    <tr>\n",
       "      <th>12</th>\n",
       "      <td>ROLLO FARM LABOR CONTRACTOR</td>\n",
       "      <td>Miami, FL</td>\n",
       "      <td>Failure to respond to audit (no response)</td>\n",
       "      <td>2 years</td>\n",
       "      <td>8/23/2014</td>\n",
       "      <td>8/22/2016</td>\n",
       "      <td>True</td>\n",
       "    </tr>\n",
       "  </tbody>\n",
       "</table>\n",
       "</div>"
      ],
      "text/plain": [
       "                                     Name      City, State  \\\n",
       "6                 ANNABELLA LAND & CATTLE    Annabella, UT   \n",
       "7                     AUTUMN HILL ORCHARD       Groton, MA   \n",
       "8   CADDO CREEK RANCH, DBA PARADISE RANCH        Caddo, TX   \n",
       "11                  LOEWEN HARVESTING LLC  Brownsville, TX   \n",
       "12            ROLLO FARM LABOR CONTRACTOR        Miami, FL   \n",
       "\n",
       "                                         Violation Duration Start date  \\\n",
       "6                                      Non Payment   1 year   5/9/2014   \n",
       "7        Failure to respond to audit (no response)  2 years   7/6/2014   \n",
       "8   Failure to respond to audit (partial response)  2 years  7/20/2014   \n",
       "11  Failure to respond to audit (partial response)   1 year  8/20/2014   \n",
       "12       Failure to respond to audit (no response)  2 years  8/23/2014   \n",
       "\n",
       "     End date  is_repeated  \n",
       "6    5/9/2015         True  \n",
       "7    7/5/2016         True  \n",
       "8   7/19/2016         True  \n",
       "11  8/19/2015         True  \n",
       "12  8/22/2016         True  "
      ]
     },
     "execution_count": 37,
     "metadata": {},
     "output_type": "execute_result"
    }
   ],
   "source": [
    "## insert your code for assigning the uppercase names back to the data\n",
    "jobs['EMPLOYER_NAME'] = jobs_upper\n",
    "debar_clean['Name'] = debar_upper\n",
    "\n",
    "jobs.head()\n",
    "debar_clean.head()"
   ]
  },
  {
   "cell_type": "markdown",
   "metadata": {},
   "source": [
    "### 2.3.2 Cleaning up punctuation (4 points)\n",
    "\n",
    "You notice that INC, CO, and LLC are sometimes followed by a period (.) but sometimes not\n",
    "\n",
    "A. For each dataset, write a regex pattern using `re.sub` to remove the . but only if it's preceded by INC, LLC, or CO \n",
    "\n",
    "Make sure LLC, INC, CO remain part of the string but just without the dot\n",
    "\n",
    "B. Test the pattern on the positive and negative example we provide below and print the result. See the Github issue for examples of what to return\n",
    "\n",
    "\n",
    "**Hint**: https://stackoverflow.com/questions/7191209/python-re-sub-replace-with-matched-content\n",
    "\n"
   ]
  },
  {
   "cell_type": "code",
   "execution_count": 38,
   "metadata": {},
   "outputs": [],
   "source": [
    "pos_example_1 = \"CISCO PRODUCE INC.\"\n",
    "pos_example_2 = \"AVOYELLES HONEY CO., LLC\"\n",
    "neg_example = \"E.V. RANCH LLP\""
   ]
  },
  {
   "cell_type": "code",
   "execution_count": 39,
   "metadata": {},
   "outputs": [
    {
     "data": {
      "text/plain": [
       "['CISCO PRODUCE INC', 'AVOYELLES HONEY CO, LLC', 'E.V. RANCH LLP']"
      ]
     },
     "execution_count": 39,
     "metadata": {},
     "output_type": "execute_result"
    }
   ],
   "source": [
    "## insert your code here with the regex pattern for part A\n",
    "regex = r\"(INC|LLC|CO)\\.\"\n",
    "\n",
    "## insert your code to use re.sub to apply the pattern to the test cases for part B\n",
    "res = [re.sub(regex, r\"\\1\", name) for name in [pos_example_1, pos_example_2, neg_example]]\n",
    "res"
   ]
  },
  {
   "cell_type": "markdown",
   "metadata": {},
   "source": [
    "### 2.3.3 (4 points)\n",
    "\n",
    "Use that pattern in conjunction with `re.sub` and list comprehension to clean the employer name columns in each dataset. Save the new columns as `name_clean` in each. Then, use row subsetting to (1) subset to rows that changed names and (2) for:\n",
    "\n",
    "- `debar_clean` print the `Name` and `name_clean` columns\n",
    "- `jobs` print the `EMPLOYER_NAME` and `name_clean` columns\n",
    "\n",
    "Make sure to use the uppercase versions of the variables\n"
   ]
  },
  {
   "cell_type": "code",
   "execution_count": 40,
   "metadata": {},
   "outputs": [
    {
     "data": {
      "text/html": [
       "<div>\n",
       "<style scoped>\n",
       "    .dataframe tbody tr th:only-of-type {\n",
       "        vertical-align: middle;\n",
       "    }\n",
       "\n",
       "    .dataframe tbody tr th {\n",
       "        vertical-align: top;\n",
       "    }\n",
       "\n",
       "    .dataframe thead th {\n",
       "        text-align: right;\n",
       "    }\n",
       "</style>\n",
       "<table border=\"1\" class=\"dataframe\">\n",
       "  <thead>\n",
       "    <tr style=\"text-align: right;\">\n",
       "      <th></th>\n",
       "      <th>EMPLOYER_NAME</th>\n",
       "      <th>name_clean</th>\n",
       "    </tr>\n",
       "  </thead>\n",
       "  <tbody>\n",
       "    <tr>\n",
       "      <th>4</th>\n",
       "      <td>DUNSON HARVESTING, INC.</td>\n",
       "      <td>DUNSON HARVESTING, INC</td>\n",
       "    </tr>\n",
       "    <tr>\n",
       "      <th>7</th>\n",
       "      <td>FARM LABOR ASSOCIATION FOR GROWERS, INC.</td>\n",
       "      <td>FARM LABOR ASSOCIATION FOR GROWERS, INC</td>\n",
       "    </tr>\n",
       "    <tr>\n",
       "      <th>14</th>\n",
       "      <td>MCLAIN FARMS, INC.</td>\n",
       "      <td>MCLAIN FARMS, INC</td>\n",
       "    </tr>\n",
       "    <tr>\n",
       "      <th>17</th>\n",
       "      <td>BONNIE PLANTS, INC.</td>\n",
       "      <td>BONNIE PLANTS, INC</td>\n",
       "    </tr>\n",
       "    <tr>\n",
       "      <th>18</th>\n",
       "      <td>B &amp; W QUALITY GROWERS, INC.</td>\n",
       "      <td>B &amp; W QUALITY GROWERS, INC</td>\n",
       "    </tr>\n",
       "    <tr>\n",
       "      <th>...</th>\n",
       "      <td>...</td>\n",
       "      <td>...</td>\n",
       "    </tr>\n",
       "    <tr>\n",
       "      <th>2700</th>\n",
       "      <td>HARRAL LIVESTOCK CO. LLC</td>\n",
       "      <td>HARRAL LIVESTOCK CO LLC</td>\n",
       "    </tr>\n",
       "    <tr>\n",
       "      <th>2701</th>\n",
       "      <td>ECOSYSTEM CONCEPTS INC.</td>\n",
       "      <td>ECOSYSTEM CONCEPTS INC</td>\n",
       "    </tr>\n",
       "    <tr>\n",
       "      <th>2702</th>\n",
       "      <td>SIDDOWAY SHEEP CO.</td>\n",
       "      <td>SIDDOWAY SHEEP CO</td>\n",
       "    </tr>\n",
       "    <tr>\n",
       "      <th>2705</th>\n",
       "      <td>SATHER MANAGEMENT INC.</td>\n",
       "      <td>SATHER MANAGEMENT INC</td>\n",
       "    </tr>\n",
       "    <tr>\n",
       "      <th>2711</th>\n",
       "      <td>C R KOEHL AND SONS INC.</td>\n",
       "      <td>C R KOEHL AND SONS INC</td>\n",
       "    </tr>\n",
       "  </tbody>\n",
       "</table>\n",
       "<p>576 rows × 2 columns</p>\n",
       "</div>"
      ],
      "text/plain": [
       "                                 EMPLOYER_NAME  \\\n",
       "4                      DUNSON HARVESTING, INC.   \n",
       "7     FARM LABOR ASSOCIATION FOR GROWERS, INC.   \n",
       "14                          MCLAIN FARMS, INC.   \n",
       "17                         BONNIE PLANTS, INC.   \n",
       "18                 B & W QUALITY GROWERS, INC.   \n",
       "...                                        ...   \n",
       "2700                  HARRAL LIVESTOCK CO. LLC   \n",
       "2701                   ECOSYSTEM CONCEPTS INC.   \n",
       "2702                        SIDDOWAY SHEEP CO.   \n",
       "2705                    SATHER MANAGEMENT INC.   \n",
       "2711                   C R KOEHL AND SONS INC.   \n",
       "\n",
       "                                   name_clean  \n",
       "4                      DUNSON HARVESTING, INC  \n",
       "7     FARM LABOR ASSOCIATION FOR GROWERS, INC  \n",
       "14                          MCLAIN FARMS, INC  \n",
       "17                         BONNIE PLANTS, INC  \n",
       "18                 B & W QUALITY GROWERS, INC  \n",
       "...                                       ...  \n",
       "2700                  HARRAL LIVESTOCK CO LLC  \n",
       "2701                   ECOSYSTEM CONCEPTS INC  \n",
       "2702                        SIDDOWAY SHEEP CO  \n",
       "2705                    SATHER MANAGEMENT INC  \n",
       "2711                   C R KOEHL AND SONS INC  \n",
       "\n",
       "[576 rows x 2 columns]"
      ]
     },
     "execution_count": 40,
     "metadata": {},
     "output_type": "execute_result"
    },
    {
     "data": {
      "text/html": [
       "<div>\n",
       "<style scoped>\n",
       "    .dataframe tbody tr th:only-of-type {\n",
       "        vertical-align: middle;\n",
       "    }\n",
       "\n",
       "    .dataframe tbody tr th {\n",
       "        vertical-align: top;\n",
       "    }\n",
       "\n",
       "    .dataframe thead th {\n",
       "        text-align: right;\n",
       "    }\n",
       "</style>\n",
       "<table border=\"1\" class=\"dataframe\">\n",
       "  <thead>\n",
       "    <tr style=\"text-align: right;\">\n",
       "      <th></th>\n",
       "      <th>Name</th>\n",
       "      <th>name_clean</th>\n",
       "    </tr>\n",
       "  </thead>\n",
       "  <tbody>\n",
       "    <tr>\n",
       "      <th>3</th>\n",
       "      <td>ANTON FERTILIZER INC.</td>\n",
       "      <td>ANTON FERTILIZER INC</td>\n",
       "    </tr>\n",
       "    <tr>\n",
       "      <th>4</th>\n",
       "      <td>GREAT PLAINS FLUID SERVICE, INC.</td>\n",
       "      <td>GREAT PLAINS FLUID SERVICE, INC</td>\n",
       "    </tr>\n",
       "    <tr>\n",
       "      <th>5</th>\n",
       "      <td>PROMAX INC.</td>\n",
       "      <td>PROMAX INC</td>\n",
       "    </tr>\n",
       "    <tr>\n",
       "      <th>13</th>\n",
       "      <td>REIMER'S INC.</td>\n",
       "      <td>REIMER'S INC</td>\n",
       "    </tr>\n",
       "    <tr>\n",
       "      <th>19</th>\n",
       "      <td>CISCO PRODUCE INC.</td>\n",
       "      <td>CISCO PRODUCE INC</td>\n",
       "    </tr>\n",
       "    <tr>\n",
       "      <th>23</th>\n",
       "      <td>REIMER’S INC.</td>\n",
       "      <td>REIMER’S INC</td>\n",
       "    </tr>\n",
       "    <tr>\n",
       "      <th>33</th>\n",
       "      <td>GERONIMO SHEEP CO.</td>\n",
       "      <td>GERONIMO SHEEP CO</td>\n",
       "    </tr>\n",
       "    <tr>\n",
       "      <th>46</th>\n",
       "      <td>ALTENDORF TRANSPORT INC.</td>\n",
       "      <td>ALTENDORF TRANSPORT INC</td>\n",
       "    </tr>\n",
       "    <tr>\n",
       "      <th>56</th>\n",
       "      <td>CISCO PRODUCE INC.</td>\n",
       "      <td>CISCO PRODUCE INC</td>\n",
       "    </tr>\n",
       "    <tr>\n",
       "      <th>72</th>\n",
       "      <td>SAXTONS RIVER ORCHARDS, INC.</td>\n",
       "      <td>SAXTONS RIVER ORCHARDS, INC</td>\n",
       "    </tr>\n",
       "    <tr>\n",
       "      <th>91</th>\n",
       "      <td>AVOYELLES HONEY CO., LLC</td>\n",
       "      <td>AVOYELLES HONEY CO, LLC</td>\n",
       "    </tr>\n",
       "  </tbody>\n",
       "</table>\n",
       "</div>"
      ],
      "text/plain": [
       "                                Name                       name_clean\n",
       "3              ANTON FERTILIZER INC.             ANTON FERTILIZER INC\n",
       "4   GREAT PLAINS FLUID SERVICE, INC.  GREAT PLAINS FLUID SERVICE, INC\n",
       "5                        PROMAX INC.                       PROMAX INC\n",
       "13                     REIMER'S INC.                     REIMER'S INC\n",
       "19                CISCO PRODUCE INC.                CISCO PRODUCE INC\n",
       "23                     REIMER’S INC.                     REIMER’S INC\n",
       "33                GERONIMO SHEEP CO.                GERONIMO SHEEP CO\n",
       "46          ALTENDORF TRANSPORT INC.          ALTENDORF TRANSPORT INC\n",
       "56                CISCO PRODUCE INC.                CISCO PRODUCE INC\n",
       "72      SAXTONS RIVER ORCHARDS, INC.      SAXTONS RIVER ORCHARDS, INC\n",
       "91          AVOYELLES HONEY CO., LLC          AVOYELLES HONEY CO, LLC"
      ]
     },
     "execution_count": 40,
     "metadata": {},
     "output_type": "execute_result"
    }
   ],
   "source": [
    "## your code here to clean the columns\n",
    "# remove the periods\n",
    "jobs_punc = [re.sub(regex, r\"\\1\", name) for name in jobs['EMPLOYER_NAME']]\n",
    "debar_punc = [re.sub(regex, r\"\\1\", name) for name in debar_clean['Name']]\n",
    "\n",
    "# assigne the new columns\n",
    "jobs[\"name_clean\"] = jobs_punc\n",
    "debar_clean[\"name_clean\"] = debar_punc\n",
    "\n",
    "# create the subsetted dataframes that only include changed rows\n",
    "sub_jobs = jobs[jobs[\"name_clean\"] != jobs[\"EMPLOYER_NAME\"]]\n",
    "sub_debar = debar_clean[debar_clean[\"name_clean\"] != debar_clean[\"Name\"]]\n",
    "sub_jobs[[\"EMPLOYER_NAME\", \"name_clean\"]]\n",
    "sub_debar[[\"Name\", \"name_clean\"]]\n"
   ]
  },
  {
   "cell_type": "code",
   "execution_count": 41,
   "metadata": {},
   "outputs": [
    {
     "data": {
      "text/html": [
       "<div>\n",
       "<style scoped>\n",
       "    .dataframe tbody tr th:only-of-type {\n",
       "        vertical-align: middle;\n",
       "    }\n",
       "\n",
       "    .dataframe tbody tr th {\n",
       "        vertical-align: top;\n",
       "    }\n",
       "\n",
       "    .dataframe thead th {\n",
       "        text-align: right;\n",
       "    }\n",
       "</style>\n",
       "<table border=\"1\" class=\"dataframe\">\n",
       "  <thead>\n",
       "    <tr style=\"text-align: right;\">\n",
       "      <th></th>\n",
       "      <th>CASE_NUMBER</th>\n",
       "      <th>CASE_STATUS</th>\n",
       "      <th>RECEIVED_DATE</th>\n",
       "      <th>DECISION_DATE</th>\n",
       "      <th>TYPE_OF_EMPLOYER_APPLICATION</th>\n",
       "      <th>H2A_LABOR_CONTRACTOR</th>\n",
       "      <th>NATURE_OF_TEMPORARY_NEED</th>\n",
       "      <th>EMERGENCY_FILING</th>\n",
       "      <th>EMPLOYER_NAME</th>\n",
       "      <th>TRADE_NAME_DBA</th>\n",
       "      <th>...</th>\n",
       "      <th>TOTAL_HOUSING_RECORDS</th>\n",
       "      <th>MEALS_PROVIDED</th>\n",
       "      <th>MEALS_CHARGED</th>\n",
       "      <th>MEAL_REIMBURSEMENT_MINIMUM</th>\n",
       "      <th>MEAL_REIMBURSEMENT_MAXIMUM</th>\n",
       "      <th>PHONE_TO_APPLY</th>\n",
       "      <th>EMAIL_TO_APPLY</th>\n",
       "      <th>WEBSITE_TO_APPLY</th>\n",
       "      <th>TOTAL_ADDENDUM_A_RECORDS</th>\n",
       "      <th>name_clean</th>\n",
       "    </tr>\n",
       "  </thead>\n",
       "  <tbody>\n",
       "    <tr>\n",
       "      <th>4</th>\n",
       "      <td>H-300-20231-774508</td>\n",
       "      <td>Determination Issued - Certification</td>\n",
       "      <td>2020-08-20 10:17:34.530</td>\n",
       "      <td>2020-10-01 00:00:00.000</td>\n",
       "      <td>Individual Employer</td>\n",
       "      <td>Y</td>\n",
       "      <td>Seasonal</td>\n",
       "      <td>N</td>\n",
       "      <td>DUNSON HARVESTING, INC.</td>\n",
       "      <td>Dunson Harvesting, Inc.</td>\n",
       "      <td>...</td>\n",
       "      <td>8</td>\n",
       "      <td>N</td>\n",
       "      <td>NaN</td>\n",
       "      <td>12.68</td>\n",
       "      <td>55.0</td>\n",
       "      <td>18632939888</td>\n",
       "      <td>NaN</td>\n",
       "      <td>www.employflorida.com</td>\n",
       "      <td>4</td>\n",
       "      <td>DUNSON HARVESTING, INC</td>\n",
       "    </tr>\n",
       "    <tr>\n",
       "      <th>7</th>\n",
       "      <td>H-300-20233-780540</td>\n",
       "      <td>Determination Issued - Certification (Expired)</td>\n",
       "      <td>2020-09-04 14:26:00.270</td>\n",
       "      <td>2020-10-01 00:00:00.000</td>\n",
       "      <td>Association - Joint Employer</td>\n",
       "      <td>N</td>\n",
       "      <td>Seasonal</td>\n",
       "      <td>N</td>\n",
       "      <td>FARM LABOR ASSOCIATION FOR GROWERS, INC.</td>\n",
       "      <td>NaN</td>\n",
       "      <td>...</td>\n",
       "      <td>1</td>\n",
       "      <td>Y</td>\n",
       "      <td>13.5</td>\n",
       "      <td>13.50</td>\n",
       "      <td>55.0</td>\n",
       "      <td>17605922256</td>\n",
       "      <td>flag@sfcos.com</td>\n",
       "      <td>NaN</td>\n",
       "      <td>9</td>\n",
       "      <td>FARM LABOR ASSOCIATION FOR GROWERS, INC</td>\n",
       "    </tr>\n",
       "    <tr>\n",
       "      <th>14</th>\n",
       "      <td>H-300-20240-791807</td>\n",
       "      <td>Determination Issued - Certification (Expired)</td>\n",
       "      <td>2020-09-17 18:57:56.030</td>\n",
       "      <td>2020-10-01 00:00:00.000</td>\n",
       "      <td>Individual Employer</td>\n",
       "      <td>N</td>\n",
       "      <td>Seasonal</td>\n",
       "      <td>N</td>\n",
       "      <td>MCLAIN FARMS, INC.</td>\n",
       "      <td>NaN</td>\n",
       "      <td>...</td>\n",
       "      <td>1</td>\n",
       "      <td>N</td>\n",
       "      <td>NaN</td>\n",
       "      <td>12.68</td>\n",
       "      <td>55.0</td>\n",
       "      <td>19125268436</td>\n",
       "      <td>kim@mclainfarms.com</td>\n",
       "      <td>NaN</td>\n",
       "      <td>1</td>\n",
       "      <td>MCLAIN FARMS, INC</td>\n",
       "    </tr>\n",
       "    <tr>\n",
       "      <th>17</th>\n",
       "      <td>H-300-20244-795767</td>\n",
       "      <td>Determination Issued - Certification</td>\n",
       "      <td>2020-09-16 12:58:58.600</td>\n",
       "      <td>2020-10-01 00:00:00.000</td>\n",
       "      <td>Individual Employer</td>\n",
       "      <td>N</td>\n",
       "      <td>Seasonal</td>\n",
       "      <td>N</td>\n",
       "      <td>BONNIE PLANTS, INC.</td>\n",
       "      <td>NaN</td>\n",
       "      <td>...</td>\n",
       "      <td>1</td>\n",
       "      <td>N</td>\n",
       "      <td>NaN</td>\n",
       "      <td>12.68</td>\n",
       "      <td>55.0</td>\n",
       "      <td>13343911328</td>\n",
       "      <td>dennis.ucles@bonnieplants.com</td>\n",
       "      <td>NaN</td>\n",
       "      <td>0</td>\n",
       "      <td>BONNIE PLANTS, INC</td>\n",
       "    </tr>\n",
       "    <tr>\n",
       "      <th>18</th>\n",
       "      <td>H-300-20245-799651</td>\n",
       "      <td>Determination Issued - Certification</td>\n",
       "      <td>2020-09-02 11:17:48.730</td>\n",
       "      <td>2020-10-01 00:00:00.000</td>\n",
       "      <td>Individual Employer</td>\n",
       "      <td>N</td>\n",
       "      <td>Seasonal</td>\n",
       "      <td>N</td>\n",
       "      <td>B &amp; W QUALITY GROWERS, INC.</td>\n",
       "      <td>NaN</td>\n",
       "      <td>...</td>\n",
       "      <td>33</td>\n",
       "      <td>N</td>\n",
       "      <td>NaN</td>\n",
       "      <td>12.68</td>\n",
       "      <td>55.0</td>\n",
       "      <td>17725711135</td>\n",
       "      <td>NaN</td>\n",
       "      <td>www.employflorida.com</td>\n",
       "      <td>7</td>\n",
       "      <td>B &amp; W QUALITY GROWERS, INC</td>\n",
       "    </tr>\n",
       "  </tbody>\n",
       "</table>\n",
       "<p>5 rows × 139 columns</p>\n",
       "</div>"
      ],
      "text/plain": [
       "           CASE_NUMBER                                     CASE_STATUS  \\\n",
       "4   H-300-20231-774508            Determination Issued - Certification   \n",
       "7   H-300-20233-780540  Determination Issued - Certification (Expired)   \n",
       "14  H-300-20240-791807  Determination Issued - Certification (Expired)   \n",
       "17  H-300-20244-795767            Determination Issued - Certification   \n",
       "18  H-300-20245-799651            Determination Issued - Certification   \n",
       "\n",
       "              RECEIVED_DATE            DECISION_DATE  \\\n",
       "4   2020-08-20 10:17:34.530  2020-10-01 00:00:00.000   \n",
       "7   2020-09-04 14:26:00.270  2020-10-01 00:00:00.000   \n",
       "14  2020-09-17 18:57:56.030  2020-10-01 00:00:00.000   \n",
       "17  2020-09-16 12:58:58.600  2020-10-01 00:00:00.000   \n",
       "18  2020-09-02 11:17:48.730  2020-10-01 00:00:00.000   \n",
       "\n",
       "    TYPE_OF_EMPLOYER_APPLICATION H2A_LABOR_CONTRACTOR  \\\n",
       "4            Individual Employer                    Y   \n",
       "7   Association - Joint Employer                    N   \n",
       "14           Individual Employer                    N   \n",
       "17           Individual Employer                    N   \n",
       "18           Individual Employer                    N   \n",
       "\n",
       "   NATURE_OF_TEMPORARY_NEED EMERGENCY_FILING  \\\n",
       "4                  Seasonal                N   \n",
       "7                  Seasonal                N   \n",
       "14                 Seasonal                N   \n",
       "17                 Seasonal                N   \n",
       "18                 Seasonal                N   \n",
       "\n",
       "                               EMPLOYER_NAME           TRADE_NAME_DBA  ...  \\\n",
       "4                    DUNSON HARVESTING, INC.  Dunson Harvesting, Inc.  ...   \n",
       "7   FARM LABOR ASSOCIATION FOR GROWERS, INC.                      NaN  ...   \n",
       "14                        MCLAIN FARMS, INC.                      NaN  ...   \n",
       "17                       BONNIE PLANTS, INC.                      NaN  ...   \n",
       "18               B & W QUALITY GROWERS, INC.                      NaN  ...   \n",
       "\n",
       "   TOTAL_HOUSING_RECORDS MEALS_PROVIDED MEALS_CHARGED  \\\n",
       "4                      8              N           NaN   \n",
       "7                      1              Y          13.5   \n",
       "14                     1              N           NaN   \n",
       "17                     1              N           NaN   \n",
       "18                    33              N           NaN   \n",
       "\n",
       "   MEAL_REIMBURSEMENT_MINIMUM MEAL_REIMBURSEMENT_MAXIMUM PHONE_TO_APPLY  \\\n",
       "4                       12.68                       55.0    18632939888   \n",
       "7                       13.50                       55.0    17605922256   \n",
       "14                      12.68                       55.0    19125268436   \n",
       "17                      12.68                       55.0    13343911328   \n",
       "18                      12.68                       55.0    17725711135   \n",
       "\n",
       "                   EMAIL_TO_APPLY       WEBSITE_TO_APPLY  \\\n",
       "4                             NaN  www.employflorida.com   \n",
       "7                  flag@sfcos.com                    NaN   \n",
       "14            kim@mclainfarms.com                    NaN   \n",
       "17  dennis.ucles@bonnieplants.com                    NaN   \n",
       "18                            NaN  www.employflorida.com   \n",
       "\n",
       "    TOTAL_ADDENDUM_A_RECORDS                               name_clean  \n",
       "4                          4                   DUNSON HARVESTING, INC  \n",
       "7                          9  FARM LABOR ASSOCIATION FOR GROWERS, INC  \n",
       "14                         1                        MCLAIN FARMS, INC  \n",
       "17                         0                       BONNIE PLANTS, INC  \n",
       "18                         7               B & W QUALITY GROWERS, INC  \n",
       "\n",
       "[5 rows x 139 columns]"
      ]
     },
     "execution_count": 41,
     "metadata": {},
     "output_type": "execute_result"
    },
    {
     "data": {
      "text/html": [
       "<div>\n",
       "<style scoped>\n",
       "    .dataframe tbody tr th:only-of-type {\n",
       "        vertical-align: middle;\n",
       "    }\n",
       "\n",
       "    .dataframe tbody tr th {\n",
       "        vertical-align: top;\n",
       "    }\n",
       "\n",
       "    .dataframe thead th {\n",
       "        text-align: right;\n",
       "    }\n",
       "</style>\n",
       "<table border=\"1\" class=\"dataframe\">\n",
       "  <thead>\n",
       "    <tr style=\"text-align: right;\">\n",
       "      <th></th>\n",
       "      <th>Name</th>\n",
       "      <th>City, State</th>\n",
       "      <th>Violation</th>\n",
       "      <th>Duration</th>\n",
       "      <th>Start date</th>\n",
       "      <th>End date</th>\n",
       "      <th>is_repeated</th>\n",
       "      <th>name_clean</th>\n",
       "    </tr>\n",
       "  </thead>\n",
       "  <tbody>\n",
       "    <tr>\n",
       "      <th>3</th>\n",
       "      <td>ANTON FERTILIZER INC.</td>\n",
       "      <td>Dighton, KS</td>\n",
       "      <td>Failure to respond to audit (no response)</td>\n",
       "      <td>2 years</td>\n",
       "      <td>3/30/2014</td>\n",
       "      <td>3/29/2016</td>\n",
       "      <td>False</td>\n",
       "      <td>ANTON FERTILIZER INC</td>\n",
       "    </tr>\n",
       "    <tr>\n",
       "      <th>4</th>\n",
       "      <td>GREAT PLAINS FLUID SERVICE, INC.</td>\n",
       "      <td>Greensburg, KS</td>\n",
       "      <td>Failure to respond to audit (no response)</td>\n",
       "      <td>2 years</td>\n",
       "      <td>3/30/2014</td>\n",
       "      <td>3/29/2016</td>\n",
       "      <td>False</td>\n",
       "      <td>GREAT PLAINS FLUID SERVICE, INC</td>\n",
       "    </tr>\n",
       "    <tr>\n",
       "      <th>5</th>\n",
       "      <td>PROMAX INC.</td>\n",
       "      <td>Whitewater, KS</td>\n",
       "      <td>Failure to Hire U.S. workers</td>\n",
       "      <td>2 years</td>\n",
       "      <td>5/15/2014</td>\n",
       "      <td>5/14/2016</td>\n",
       "      <td>False</td>\n",
       "      <td>PROMAX INC</td>\n",
       "    </tr>\n",
       "    <tr>\n",
       "      <th>13</th>\n",
       "      <td>REIMER'S INC.</td>\n",
       "      <td>Lakin, KS</td>\n",
       "      <td>Failure to respond to audit (no response)</td>\n",
       "      <td>2 years</td>\n",
       "      <td>8/23/2014</td>\n",
       "      <td>8/22/2016</td>\n",
       "      <td>False</td>\n",
       "      <td>REIMER'S INC</td>\n",
       "    </tr>\n",
       "    <tr>\n",
       "      <th>19</th>\n",
       "      <td>CISCO PRODUCE INC.</td>\n",
       "      <td>Cairo, GA</td>\n",
       "      <td>Failure to respond to audit (no response)</td>\n",
       "      <td>2 years</td>\n",
       "      <td>12/10/2014</td>\n",
       "      <td>12/9/2016</td>\n",
       "      <td>True</td>\n",
       "      <td>CISCO PRODUCE INC</td>\n",
       "    </tr>\n",
       "  </tbody>\n",
       "</table>\n",
       "</div>"
      ],
      "text/plain": [
       "                                Name     City, State  \\\n",
       "3              ANTON FERTILIZER INC.     Dighton, KS   \n",
       "4   GREAT PLAINS FLUID SERVICE, INC.  Greensburg, KS   \n",
       "5                        PROMAX INC.  Whitewater, KS   \n",
       "13                     REIMER'S INC.       Lakin, KS   \n",
       "19                CISCO PRODUCE INC.       Cairo, GA   \n",
       "\n",
       "                                    Violation Duration  Start date   End date  \\\n",
       "3   Failure to respond to audit (no response)  2 years   3/30/2014  3/29/2016   \n",
       "4   Failure to respond to audit (no response)  2 years   3/30/2014  3/29/2016   \n",
       "5                Failure to Hire U.S. workers  2 years   5/15/2014  5/14/2016   \n",
       "13  Failure to respond to audit (no response)  2 years   8/23/2014  8/22/2016   \n",
       "19  Failure to respond to audit (no response)  2 years  12/10/2014  12/9/2016   \n",
       "\n",
       "    is_repeated                       name_clean  \n",
       "3         False             ANTON FERTILIZER INC  \n",
       "4         False  GREAT PLAINS FLUID SERVICE, INC  \n",
       "5         False                       PROMAX INC  \n",
       "13        False                     REIMER'S INC  \n",
       "19         True                CISCO PRODUCE INC  "
      ]
     },
     "execution_count": 41,
     "metadata": {},
     "output_type": "execute_result"
    }
   ],
   "source": [
    "## your code here to print the head\n",
    "## print\n",
    "sub_jobs.head()\n",
    "sub_debar.head()"
   ]
  },
  {
   "cell_type": "markdown",
   "metadata": {},
   "source": [
    "## 2.4 More joins and more cleaning (5 points)\n",
    "\n",
    "A. Conduct another inner join between `jobs` and `debar_clean` now using the `name_clean` column; print the result. Did the cleaning result in any more employers matched between the two datasets?\n",
    "\n",
    "B. Create a new column in `debar_clean` called `name_clean_2` that uses regex to take the following name in that dataset:\n",
    "\n",
    "- `SLASH E.V. RANCH LLP` in the `debar_clean` dataset\n",
    "\n",
    "And cleans it up so that it matches with this employer in `jobs`\n",
    "\n",
    "- `SLASH EV RANCH` in the `jobs` dataset\n",
    "\n",
    "Eg a pattern to remove the dots in the EV and the space+LLP-- you can apply the pattern to all employer names in debar_clean (so don't need to worry about only applying it to that one employer)\n",
    "\n",
    "\n",
    "C. Conduct a left join using `name_clean_2` as the join column where the left hand dataframe is `jobs`; right hand dataframe is `debar_clean`, store the result as a dataframe, and print the rows where the merge indicator indicates the row was found in both dataframe\n",
    "\n",
    "**Note**: this manual cleaning process is inefficient and helps motivate why talked about fuzzy matching. Fuzzy matching could recognize that Slash EV ranch is a highly similar string to slash ev ranch llp and match them without us needing to use regex to make the strings identical."
   ]
  },
  {
   "cell_type": "code",
   "execution_count": 42,
   "metadata": {},
   "outputs": [
    {
     "data": {
      "text/html": [
       "<div>\n",
       "<style scoped>\n",
       "    .dataframe tbody tr th:only-of-type {\n",
       "        vertical-align: middle;\n",
       "    }\n",
       "\n",
       "    .dataframe tbody tr th {\n",
       "        vertical-align: top;\n",
       "    }\n",
       "\n",
       "    .dataframe thead th {\n",
       "        text-align: right;\n",
       "    }\n",
       "</style>\n",
       "<table border=\"1\" class=\"dataframe\">\n",
       "  <thead>\n",
       "    <tr style=\"text-align: right;\">\n",
       "      <th></th>\n",
       "      <th>CASE_NUMBER</th>\n",
       "      <th>CASE_STATUS</th>\n",
       "      <th>RECEIVED_DATE</th>\n",
       "      <th>DECISION_DATE</th>\n",
       "      <th>TYPE_OF_EMPLOYER_APPLICATION</th>\n",
       "      <th>H2A_LABOR_CONTRACTOR</th>\n",
       "      <th>NATURE_OF_TEMPORARY_NEED</th>\n",
       "      <th>EMERGENCY_FILING</th>\n",
       "      <th>EMPLOYER_NAME</th>\n",
       "      <th>TRADE_NAME_DBA</th>\n",
       "      <th>...</th>\n",
       "      <th>WEBSITE_TO_APPLY</th>\n",
       "      <th>TOTAL_ADDENDUM_A_RECORDS</th>\n",
       "      <th>name_clean</th>\n",
       "      <th>Name</th>\n",
       "      <th>City, State</th>\n",
       "      <th>Violation</th>\n",
       "      <th>Duration</th>\n",
       "      <th>Start date</th>\n",
       "      <th>End date</th>\n",
       "      <th>is_repeated</th>\n",
       "    </tr>\n",
       "  </thead>\n",
       "  <tbody>\n",
       "    <tr>\n",
       "      <th>0</th>\n",
       "      <td>H-300-20287-876656</td>\n",
       "      <td>Determination Issued - Certification</td>\n",
       "      <td>2020-10-20 09:20:32.010</td>\n",
       "      <td>2020-11-09 00:00:00.000</td>\n",
       "      <td>Individual Employer</td>\n",
       "      <td>Y</td>\n",
       "      <td>Seasonal</td>\n",
       "      <td>Y</td>\n",
       "      <td>RAFAEL BARAJAS</td>\n",
       "      <td>NaN</td>\n",
       "      <td>...</td>\n",
       "      <td>https://seasonaljobs.dol.gov/</td>\n",
       "      <td>7</td>\n",
       "      <td>RAFAEL BARAJAS</td>\n",
       "      <td>RAFAEL BARAJAS</td>\n",
       "      <td>Sebring, Florida</td>\n",
       "      <td>Non-payment of certification fee</td>\n",
       "      <td>1 year</td>\n",
       "      <td>9/23/2016</td>\n",
       "      <td>9/22/2017</td>\n",
       "      <td>False</td>\n",
       "    </tr>\n",
       "  </tbody>\n",
       "</table>\n",
       "<p>1 rows × 146 columns</p>\n",
       "</div>"
      ],
      "text/plain": [
       "          CASE_NUMBER                           CASE_STATUS  \\\n",
       "0  H-300-20287-876656  Determination Issued - Certification   \n",
       "\n",
       "             RECEIVED_DATE            DECISION_DATE  \\\n",
       "0  2020-10-20 09:20:32.010  2020-11-09 00:00:00.000   \n",
       "\n",
       "  TYPE_OF_EMPLOYER_APPLICATION H2A_LABOR_CONTRACTOR NATURE_OF_TEMPORARY_NEED  \\\n",
       "0          Individual Employer                    Y                 Seasonal   \n",
       "\n",
       "  EMERGENCY_FILING   EMPLOYER_NAME TRADE_NAME_DBA  ...  \\\n",
       "0                Y  RAFAEL BARAJAS            NaN  ...   \n",
       "\n",
       "                WEBSITE_TO_APPLY TOTAL_ADDENDUM_A_RECORDS      name_clean  \\\n",
       "0  https://seasonaljobs.dol.gov/                        7  RAFAEL BARAJAS   \n",
       "\n",
       "             Name       City, State                         Violation  \\\n",
       "0  RAFAEL BARAJAS  Sebring, Florida  Non-payment of certification fee   \n",
       "\n",
       "  Duration  Start date   End date  is_repeated  \n",
       "0   1 year   9/23/2016  9/22/2017        False  \n",
       "\n",
       "[1 rows x 146 columns]"
      ]
     },
     "execution_count": 42,
     "metadata": {},
     "output_type": "execute_result"
    },
    {
     "data": {
      "text/html": [
       "<div>\n",
       "<style scoped>\n",
       "    .dataframe tbody tr th:only-of-type {\n",
       "        vertical-align: middle;\n",
       "    }\n",
       "\n",
       "    .dataframe tbody tr th {\n",
       "        vertical-align: top;\n",
       "    }\n",
       "\n",
       "    .dataframe thead th {\n",
       "        text-align: right;\n",
       "    }\n",
       "</style>\n",
       "<table border=\"1\" class=\"dataframe\">\n",
       "  <thead>\n",
       "    <tr style=\"text-align: right;\">\n",
       "      <th></th>\n",
       "      <th>CASE_NUMBER</th>\n",
       "      <th>CASE_STATUS</th>\n",
       "      <th>RECEIVED_DATE</th>\n",
       "      <th>DECISION_DATE</th>\n",
       "      <th>TYPE_OF_EMPLOYER_APPLICATION</th>\n",
       "      <th>H2A_LABOR_CONTRACTOR</th>\n",
       "      <th>NATURE_OF_TEMPORARY_NEED</th>\n",
       "      <th>EMERGENCY_FILING</th>\n",
       "      <th>EMPLOYER_NAME</th>\n",
       "      <th>TRADE_NAME_DBA</th>\n",
       "      <th>...</th>\n",
       "      <th>Name</th>\n",
       "      <th>City, State</th>\n",
       "      <th>Violation</th>\n",
       "      <th>Duration</th>\n",
       "      <th>Start date</th>\n",
       "      <th>End date</th>\n",
       "      <th>is_repeated</th>\n",
       "      <th>name_clean_y</th>\n",
       "      <th>name_clean_2</th>\n",
       "      <th>naics_merge_status</th>\n",
       "    </tr>\n",
       "  </thead>\n",
       "  <tbody>\n",
       "    <tr>\n",
       "      <th>791</th>\n",
       "      <td>H-300-20287-876656</td>\n",
       "      <td>Determination Issued - Certification</td>\n",
       "      <td>2020-10-20 09:20:32.010</td>\n",
       "      <td>2020-11-09 00:00:00.000</td>\n",
       "      <td>Individual Employer</td>\n",
       "      <td>Y</td>\n",
       "      <td>Seasonal</td>\n",
       "      <td>Y</td>\n",
       "      <td>RAFAEL BARAJAS</td>\n",
       "      <td>NaN</td>\n",
       "      <td>...</td>\n",
       "      <td>RAFAEL BARAJAS</td>\n",
       "      <td>Sebring, Florida</td>\n",
       "      <td>Non-payment of certification fee</td>\n",
       "      <td>1 year</td>\n",
       "      <td>9/23/2016</td>\n",
       "      <td>9/22/2017</td>\n",
       "      <td>False</td>\n",
       "      <td>RAFAEL BARAJAS</td>\n",
       "      <td>RAFAEL BARAJAS</td>\n",
       "      <td>both</td>\n",
       "    </tr>\n",
       "    <tr>\n",
       "      <th>1115</th>\n",
       "      <td>H-300-20306-894148</td>\n",
       "      <td>Determination Issued - Certification</td>\n",
       "      <td>2020-11-02 18:11:29.140</td>\n",
       "      <td>2020-11-24 00:00:00.000</td>\n",
       "      <td>Individual Employer</td>\n",
       "      <td>N</td>\n",
       "      <td>Seasonal</td>\n",
       "      <td>N</td>\n",
       "      <td>SLASH EV RANCH</td>\n",
       "      <td>NaN</td>\n",
       "      <td>...</td>\n",
       "      <td>SLASH E.V. RANCH LLP</td>\n",
       "      <td>Rifle, CO</td>\n",
       "      <td>WHD Debarment</td>\n",
       "      <td>1 year</td>\n",
       "      <td>11/15/2014</td>\n",
       "      <td>11/14/2015</td>\n",
       "      <td>False</td>\n",
       "      <td>SLASH E.V. RANCH LLP</td>\n",
       "      <td>SLASH EV RANCH</td>\n",
       "      <td>both</td>\n",
       "    </tr>\n",
       "  </tbody>\n",
       "</table>\n",
       "<p>2 rows × 149 columns</p>\n",
       "</div>"
      ],
      "text/plain": [
       "             CASE_NUMBER                           CASE_STATUS  \\\n",
       "791   H-300-20287-876656  Determination Issued - Certification   \n",
       "1115  H-300-20306-894148  Determination Issued - Certification   \n",
       "\n",
       "                RECEIVED_DATE            DECISION_DATE  \\\n",
       "791   2020-10-20 09:20:32.010  2020-11-09 00:00:00.000   \n",
       "1115  2020-11-02 18:11:29.140  2020-11-24 00:00:00.000   \n",
       "\n",
       "     TYPE_OF_EMPLOYER_APPLICATION H2A_LABOR_CONTRACTOR  \\\n",
       "791           Individual Employer                    Y   \n",
       "1115          Individual Employer                    N   \n",
       "\n",
       "     NATURE_OF_TEMPORARY_NEED EMERGENCY_FILING   EMPLOYER_NAME TRADE_NAME_DBA  \\\n",
       "791                  Seasonal                Y  RAFAEL BARAJAS            NaN   \n",
       "1115                 Seasonal                N  SLASH EV RANCH            NaN   \n",
       "\n",
       "      ...                  Name       City, State  \\\n",
       "791   ...        RAFAEL BARAJAS  Sebring, Florida   \n",
       "1115  ...  SLASH E.V. RANCH LLP         Rifle, CO   \n",
       "\n",
       "                             Violation Duration  Start date    End date  \\\n",
       "791   Non-payment of certification fee   1 year   9/23/2016   9/22/2017   \n",
       "1115                     WHD Debarment   1 year  11/15/2014  11/14/2015   \n",
       "\n",
       "     is_repeated          name_clean_y    name_clean_2  naics_merge_status  \n",
       "791        False        RAFAEL BARAJAS  RAFAEL BARAJAS                both  \n",
       "1115       False  SLASH E.V. RANCH LLP  SLASH EV RANCH                both  \n",
       "\n",
       "[2 rows x 149 columns]"
      ]
     },
     "execution_count": 42,
     "metadata": {},
     "output_type": "execute_result"
    }
   ],
   "source": [
    "## your code here\n",
    "merged_jobs2 = jobs.merge(debar_clean, on=\"name_clean\", how = \"inner\")\n",
    "merged_jobs2\n",
    "# No more employers were matched in this merge, still just one.\n",
    "\n",
    "regex2 = r\"(\\w+)(\\.)(\\w)(\\.)(.+)(\\sLLP)\"\n",
    "\n",
    "clean_name = [re.sub(regex2, r\"\\1\\3\\5\", name) for name in debar_clean[\"name_clean\"]]\n",
    "debar_clean[\"name_clean_2\"] = clean_name\n",
    "\n",
    "merged_jobs3 = jobs.merge(debar_clean, left_on=\"name_clean\", right_on=\"name_clean_2\", how = \"left\", indicator=\"naics_merge_status\")\n",
    "merged_jobs3[merged_jobs3[\"naics_merge_status\"] == \"both\"]\n",
    "\n"
   ]
  },
  {
   "cell_type": "markdown",
   "metadata": {},
   "source": [
    "# 3. Optional extra credit 1: regex to separate companies from individuals (1 point)\n",
    "\n",
    "You notice some employers in `debar_clean` have both the name of the company and the name of individual, e.g.:\n",
    "    \n",
    "COUNTY FAIR FARM (COMPANY) AND ANDREW WILLIAMSON (INDIVIDUAL)*\n",
    "\n",
    "Use the uppercase/cleaned `name_clean` in `debar_clean`\n",
    "\n",
    "A. Write a regex pattern that does the following:\n",
    "    - Captures the pattern that occurs before COMPANY if (COMPANY) is in string; so in example above, extracts COUNTY FAIR FARM \n",
    "    - Captures the pattern that occurs before INDIVIDUAL if (INDIVIDUAL) is also in string -- so in above, extracts ANDREW WILLIAMSON (so omit the \"and\")\n",
    "    \n",
    "B. Test the pattern on `pos_example` and `neg_example`-- make sure former returns a list (if using find.all) or match object (if using re.search) with the company name and individual name separated out; make sure latter returns empty\n",
    "    \n",
    "**Hints and resources**: for step A, you can either use re.search, re.match, or re.findall; don't worry about matching B&R Harvesting and Paul Cruz (Individual)\n",
    "\n",
    "- Same regex resources as above\n",
    "    "
   ]
  },
  {
   "cell_type": "code",
   "execution_count": 43,
   "metadata": {},
   "outputs": [
    {
     "name": "stdout",
     "output_type": "stream",
     "text": [
      "Positive match: ('COUNTY FAIR FARM', 'ANDREW WILLIAMSON')\n",
      "no match on negative example\n"
     ]
    }
   ],
   "source": [
    "pos_example = \"COUNTY FAIR FARM (COMPANY) AND ANDREW WILLIAMSON (INDIVIDUAL)*\"\n",
    "neg_example = \"CISCO PRODUCE INC\"\n",
    "\n",
    "## your code here to define the pattern\n",
    "pattern = r\"(.*?)\\s*\\(COMPANY\\)\\s+AND\\s+(.*?)\\s*\\(INDIVIDUAL\\)\"\n",
    "\n",
    "## your code here to apply it to the pos_example\n",
    "match_pos = re.search(pattern, pos_example)\n",
    "if match_pos:\n",
    "    print(\"Positive match:\", match_pos.groups())\n",
    "else:\n",
    "    print(\"No match on positive example\")\n",
    "\n",
    "## your code here to apply it to the negative example\n",
    "match_neg = re.search(pattern, neg_example)\n",
    "if match_neg:\n",
    "    print(\"False positive on negative example:\", match_neg.groups())\n",
    "else:\n",
    "    print(\"no match on negative example\")"
   ]
  },
  {
   "cell_type": "markdown",
   "metadata": {},
   "source": [
    "C. Iterate over the `name_clean` column in debar and use regex to create two new columns in `debar_clean`:\n",
    "   - `co_name`: A column for company (full `name_clean` string if no match; pattern before COMPANY if one extracted)\n",
    "   - `ind_name`: A column for individual (full `name_clean` string if no match; pattern before INDIVIDUAL if one extracted)\n",
    " \n"
   ]
  },
  {
   "cell_type": "code",
   "execution_count": 44,
   "metadata": {},
   "outputs": [
    {
     "data": {
      "text/html": [
       "<div>\n",
       "<style scoped>\n",
       "    .dataframe tbody tr th:only-of-type {\n",
       "        vertical-align: middle;\n",
       "    }\n",
       "\n",
       "    .dataframe tbody tr th {\n",
       "        vertical-align: top;\n",
       "    }\n",
       "\n",
       "    .dataframe thead th {\n",
       "        text-align: right;\n",
       "    }\n",
       "</style>\n",
       "<table border=\"1\" class=\"dataframe\">\n",
       "  <thead>\n",
       "    <tr style=\"text-align: right;\">\n",
       "      <th></th>\n",
       "      <th>Name</th>\n",
       "      <th>City, State</th>\n",
       "      <th>Violation</th>\n",
       "      <th>Duration</th>\n",
       "      <th>Start date</th>\n",
       "      <th>End date</th>\n",
       "      <th>is_repeated</th>\n",
       "      <th>name_clean</th>\n",
       "      <th>name_clean_2</th>\n",
       "      <th>co_name</th>\n",
       "      <th>ind_name</th>\n",
       "    </tr>\n",
       "  </thead>\n",
       "  <tbody>\n",
       "    <tr>\n",
       "      <th>6</th>\n",
       "      <td>ANNABELLA LAND &amp; CATTLE</td>\n",
       "      <td>Annabella, UT</td>\n",
       "      <td>Non Payment</td>\n",
       "      <td>1 year</td>\n",
       "      <td>5/9/2014</td>\n",
       "      <td>5/9/2015</td>\n",
       "      <td>True</td>\n",
       "      <td>ANNABELLA LAND &amp; CATTLE</td>\n",
       "      <td>ANNABELLA LAND &amp; CATTLE</td>\n",
       "      <td>ANNABELLA LAND &amp; CATTLE</td>\n",
       "      <td>ANNABELLA LAND &amp; CATTLE</td>\n",
       "    </tr>\n",
       "    <tr>\n",
       "      <th>7</th>\n",
       "      <td>AUTUMN HILL ORCHARD</td>\n",
       "      <td>Groton, MA</td>\n",
       "      <td>Failure to respond to audit (no response)</td>\n",
       "      <td>2 years</td>\n",
       "      <td>7/6/2014</td>\n",
       "      <td>7/5/2016</td>\n",
       "      <td>True</td>\n",
       "      <td>AUTUMN HILL ORCHARD</td>\n",
       "      <td>AUTUMN HILL ORCHARD</td>\n",
       "      <td>AUTUMN HILL ORCHARD</td>\n",
       "      <td>AUTUMN HILL ORCHARD</td>\n",
       "    </tr>\n",
       "    <tr>\n",
       "      <th>8</th>\n",
       "      <td>CADDO CREEK RANCH, DBA PARADISE RANCH</td>\n",
       "      <td>Caddo, TX</td>\n",
       "      <td>Failure to respond to audit (partial response)</td>\n",
       "      <td>2 years</td>\n",
       "      <td>7/20/2014</td>\n",
       "      <td>7/19/2016</td>\n",
       "      <td>True</td>\n",
       "      <td>CADDO CREEK RANCH, DBA PARADISE RANCH</td>\n",
       "      <td>CADDO CREEK RANCH, DBA PARADISE RANCH</td>\n",
       "      <td>CADDO CREEK RANCH, DBA PARADISE RANCH</td>\n",
       "      <td>CADDO CREEK RANCH, DBA PARADISE RANCH</td>\n",
       "    </tr>\n",
       "    <tr>\n",
       "      <th>11</th>\n",
       "      <td>LOEWEN HARVESTING LLC</td>\n",
       "      <td>Brownsville, TX</td>\n",
       "      <td>Failure to respond to audit (partial response)</td>\n",
       "      <td>1 year</td>\n",
       "      <td>8/20/2014</td>\n",
       "      <td>8/19/2015</td>\n",
       "      <td>True</td>\n",
       "      <td>LOEWEN HARVESTING LLC</td>\n",
       "      <td>LOEWEN HARVESTING LLC</td>\n",
       "      <td>LOEWEN HARVESTING LLC</td>\n",
       "      <td>LOEWEN HARVESTING LLC</td>\n",
       "    </tr>\n",
       "    <tr>\n",
       "      <th>12</th>\n",
       "      <td>ROLLO FARM LABOR CONTRACTOR</td>\n",
       "      <td>Miami, FL</td>\n",
       "      <td>Failure to respond to audit (no response)</td>\n",
       "      <td>2 years</td>\n",
       "      <td>8/23/2014</td>\n",
       "      <td>8/22/2016</td>\n",
       "      <td>True</td>\n",
       "      <td>ROLLO FARM LABOR CONTRACTOR</td>\n",
       "      <td>ROLLO FARM LABOR CONTRACTOR</td>\n",
       "      <td>ROLLO FARM LABOR CONTRACTOR</td>\n",
       "      <td>ROLLO FARM LABOR CONTRACTOR</td>\n",
       "    </tr>\n",
       "    <tr>\n",
       "      <th>...</th>\n",
       "      <td>...</td>\n",
       "      <td>...</td>\n",
       "      <td>...</td>\n",
       "      <td>...</td>\n",
       "      <td>...</td>\n",
       "      <td>...</td>\n",
       "      <td>...</td>\n",
       "      <td>...</td>\n",
       "      <td>...</td>\n",
       "      <td>...</td>\n",
       "      <td>...</td>\n",
       "    </tr>\n",
       "    <tr>\n",
       "      <th>107</th>\n",
       "      <td>WALKER PLACE</td>\n",
       "      <td>Danville, IL</td>\n",
       "      <td>Failure to comply with the employer's obligati...</td>\n",
       "      <td>2 months</td>\n",
       "      <td>11/19/2019</td>\n",
       "      <td>1/26/2020</td>\n",
       "      <td>False</td>\n",
       "      <td>WALKER PLACE</td>\n",
       "      <td>WALKER PLACE</td>\n",
       "      <td>WALKER PLACE</td>\n",
       "      <td>WALKER PLACE</td>\n",
       "    </tr>\n",
       "    <tr>\n",
       "      <th>108</th>\n",
       "      <td>COUNTY FAIR FARM (COMPANY) AND ANDREW WILLIAMS...</td>\n",
       "      <td>Jefferson, ME</td>\n",
       "      <td>WHD Debarment</td>\n",
       "      <td>3 years</td>\n",
       "      <td>3/8/2017</td>\n",
       "      <td>3/8/2020</td>\n",
       "      <td>False</td>\n",
       "      <td>COUNTY FAIR FARM (COMPANY) AND ANDREW WILLIAMS...</td>\n",
       "      <td>COUNTY FAIR FARM (COMPANY) AND ANDREW WILLIAMS...</td>\n",
       "      <td>COUNTY FAIR FARM</td>\n",
       "      <td>ANDREW WILLIAMSON</td>\n",
       "    </tr>\n",
       "    <tr>\n",
       "      <th>110</th>\n",
       "      <td>JESUS LEDESMA</td>\n",
       "      <td>Mulberry, FL</td>\n",
       "      <td>Failure to Respond to Audit Request</td>\n",
       "      <td>2 years</td>\n",
       "      <td>2/8/18</td>\n",
       "      <td>2/8/20</td>\n",
       "      <td>False</td>\n",
       "      <td>JESUS LEDESMA</td>\n",
       "      <td>JESUS LEDESMA</td>\n",
       "      <td>JESUS LEDESMA</td>\n",
       "      <td>JESUS LEDESMA</td>\n",
       "    </tr>\n",
       "    <tr>\n",
       "      <th>112</th>\n",
       "      <td>B &amp; R HARVESTING AND PAUL CRUZ (INDIVIDUAL)</td>\n",
       "      <td>Collins, Georgia</td>\n",
       "      <td>WHD Debarment</td>\n",
       "      <td>3 years</td>\n",
       "      <td>4/9/17</td>\n",
       "      <td>4/9/20</td>\n",
       "      <td>False</td>\n",
       "      <td>B &amp; R HARVESTING AND PAUL CRUZ (INDIVIDUAL)</td>\n",
       "      <td>B &amp; R HARVESTING AND PAUL CRUZ (INDIVIDUAL)</td>\n",
       "      <td>B &amp; R HARVESTING AND PAUL CRUZ (INDIVIDUAL)</td>\n",
       "      <td>B &amp; R HARVESTING AND PAUL CRUZ (INDIVIDUAL)</td>\n",
       "    </tr>\n",
       "    <tr>\n",
       "      <th>113</th>\n",
       "      <td>DELIA ROJAS</td>\n",
       "      <td>Lyons, Georgia</td>\n",
       "      <td>WHD Debarment</td>\n",
       "      <td>3 years</td>\n",
       "      <td>4/14/17</td>\n",
       "      <td>4/14/20</td>\n",
       "      <td>False</td>\n",
       "      <td>DELIA ROJAS</td>\n",
       "      <td>DELIA ROJAS</td>\n",
       "      <td>DELIA ROJAS</td>\n",
       "      <td>DELIA ROJAS</td>\n",
       "    </tr>\n",
       "  </tbody>\n",
       "</table>\n",
       "<p>105 rows × 11 columns</p>\n",
       "</div>"
      ],
      "text/plain": [
       "                                                  Name       City, State  \\\n",
       "6                              ANNABELLA LAND & CATTLE     Annabella, UT   \n",
       "7                                  AUTUMN HILL ORCHARD        Groton, MA   \n",
       "8                CADDO CREEK RANCH, DBA PARADISE RANCH         Caddo, TX   \n",
       "11                               LOEWEN HARVESTING LLC   Brownsville, TX   \n",
       "12                         ROLLO FARM LABOR CONTRACTOR         Miami, FL   \n",
       "..                                                 ...               ...   \n",
       "107                                       WALKER PLACE      Danville, IL   \n",
       "108  COUNTY FAIR FARM (COMPANY) AND ANDREW WILLIAMS...     Jefferson, ME   \n",
       "110                                      JESUS LEDESMA      Mulberry, FL   \n",
       "112        B & R HARVESTING AND PAUL CRUZ (INDIVIDUAL)  Collins, Georgia   \n",
       "113                                        DELIA ROJAS    Lyons, Georgia   \n",
       "\n",
       "                                             Violation  Duration  Start date  \\\n",
       "6                                          Non Payment    1 year    5/9/2014   \n",
       "7            Failure to respond to audit (no response)   2 years    7/6/2014   \n",
       "8       Failure to respond to audit (partial response)   2 years   7/20/2014   \n",
       "11      Failure to respond to audit (partial response)    1 year   8/20/2014   \n",
       "12           Failure to respond to audit (no response)   2 years   8/23/2014   \n",
       "..                                                 ...       ...         ...   \n",
       "107  Failure to comply with the employer's obligati...  2 months  11/19/2019   \n",
       "108                                      WHD Debarment   3 years    3/8/2017   \n",
       "110                Failure to Respond to Audit Request   2 years      2/8/18   \n",
       "112                                      WHD Debarment   3 years      4/9/17   \n",
       "113                                      WHD Debarment   3 years     4/14/17   \n",
       "\n",
       "      End date  is_repeated  \\\n",
       "6     5/9/2015         True   \n",
       "7     7/5/2016         True   \n",
       "8    7/19/2016         True   \n",
       "11   8/19/2015         True   \n",
       "12   8/22/2016         True   \n",
       "..         ...          ...   \n",
       "107  1/26/2020        False   \n",
       "108   3/8/2020        False   \n",
       "110     2/8/20        False   \n",
       "112     4/9/20        False   \n",
       "113    4/14/20        False   \n",
       "\n",
       "                                            name_clean  \\\n",
       "6                              ANNABELLA LAND & CATTLE   \n",
       "7                                  AUTUMN HILL ORCHARD   \n",
       "8                CADDO CREEK RANCH, DBA PARADISE RANCH   \n",
       "11                               LOEWEN HARVESTING LLC   \n",
       "12                         ROLLO FARM LABOR CONTRACTOR   \n",
       "..                                                 ...   \n",
       "107                                       WALKER PLACE   \n",
       "108  COUNTY FAIR FARM (COMPANY) AND ANDREW WILLIAMS...   \n",
       "110                                      JESUS LEDESMA   \n",
       "112        B & R HARVESTING AND PAUL CRUZ (INDIVIDUAL)   \n",
       "113                                        DELIA ROJAS   \n",
       "\n",
       "                                          name_clean_2  \\\n",
       "6                              ANNABELLA LAND & CATTLE   \n",
       "7                                  AUTUMN HILL ORCHARD   \n",
       "8                CADDO CREEK RANCH, DBA PARADISE RANCH   \n",
       "11                               LOEWEN HARVESTING LLC   \n",
       "12                         ROLLO FARM LABOR CONTRACTOR   \n",
       "..                                                 ...   \n",
       "107                                       WALKER PLACE   \n",
       "108  COUNTY FAIR FARM (COMPANY) AND ANDREW WILLIAMS...   \n",
       "110                                      JESUS LEDESMA   \n",
       "112        B & R HARVESTING AND PAUL CRUZ (INDIVIDUAL)   \n",
       "113                                        DELIA ROJAS   \n",
       "\n",
       "                                         co_name  \\\n",
       "6                        ANNABELLA LAND & CATTLE   \n",
       "7                            AUTUMN HILL ORCHARD   \n",
       "8          CADDO CREEK RANCH, DBA PARADISE RANCH   \n",
       "11                         LOEWEN HARVESTING LLC   \n",
       "12                   ROLLO FARM LABOR CONTRACTOR   \n",
       "..                                           ...   \n",
       "107                                 WALKER PLACE   \n",
       "108                             COUNTY FAIR FARM   \n",
       "110                                JESUS LEDESMA   \n",
       "112  B & R HARVESTING AND PAUL CRUZ (INDIVIDUAL)   \n",
       "113                                  DELIA ROJAS   \n",
       "\n",
       "                                        ind_name  \n",
       "6                        ANNABELLA LAND & CATTLE  \n",
       "7                            AUTUMN HILL ORCHARD  \n",
       "8          CADDO CREEK RANCH, DBA PARADISE RANCH  \n",
       "11                         LOEWEN HARVESTING LLC  \n",
       "12                   ROLLO FARM LABOR CONTRACTOR  \n",
       "..                                           ...  \n",
       "107                                 WALKER PLACE  \n",
       "108                            ANDREW WILLIAMSON  \n",
       "110                                JESUS LEDESMA  \n",
       "112  B & R HARVESTING AND PAUL CRUZ (INDIVIDUAL)  \n",
       "113                                  DELIA ROJAS  \n",
       "\n",
       "[105 rows x 11 columns]"
      ]
     },
     "execution_count": 44,
     "metadata": {},
     "output_type": "execute_result"
    }
   ],
   "source": [
    "# your code here\n",
    "# Define a function to apply regex and return co_name and ind_name\n",
    "def extract_names(name):\n",
    "    match = re.search(pattern, name)\n",
    "    if match:\n",
    "        return pd.Series([match.group(1).strip(), match.group(2).strip()])\n",
    "    else:\n",
    "        return pd.Series([name, name])  # fallback: use full string\n",
    "\n",
    "# Apply it to create two new columns\n",
    "debar_clean[[\"co_name\", \"ind_name\"]] = debar_clean[\"name_clean\"].apply(extract_names)\n",
    "debar_clean"
   ]
  },
  {
   "cell_type": "markdown",
   "metadata": {},
   "source": [
    "   \n",
    "D. Print three columns for the rows in `debar_clean` containing the negative example and positive example described above (county fair farm and cisco produce):\n",
    "\n",
    "- `name_clean`\n",
    "- `co_name`\n",
    "- `ind_name`\n",
    "- `Violation`\n",
    "\n",
    "**Note**: as shown in the outcome there may be duplicates of the same company reflecting different violations"
   ]
  },
  {
   "cell_type": "code",
   "execution_count": 45,
   "metadata": {},
   "outputs": [],
   "source": [
    "# your code here"
   ]
  },
  {
   "cell_type": "code",
   "execution_count": 46,
   "metadata": {},
   "outputs": [
    {
     "name": "stdout",
     "output_type": "stream",
     "text": [
      "                                            name_clean            co_name  \\\n",
      "19                                   CISCO PRODUCE INC  CISCO PRODUCE INC   \n",
      "56                                   CISCO PRODUCE INC  CISCO PRODUCE INC   \n",
      "108  COUNTY FAIR FARM (COMPANY) AND ANDREW WILLIAMS...   COUNTY FAIR FARM   \n",
      "\n",
      "              ind_name                                   Violation  \n",
      "19   CISCO PRODUCE INC   Failure to respond to audit (no response)  \n",
      "56   CISCO PRODUCE INC  Impeding the Audit Process – Non- Response  \n",
      "108  ANDREW WILLIAMSON                               WHD Debarment  \n"
     ]
    }
   ],
   "source": [
    "# Define substrings to search\n",
    "pos_substr = \"COUNTY FAIR FARM\"\n",
    "neg_substr = \"CISCO PRODUCE\"\n",
    "\n",
    "# Filter rows where name_clean contains either substring (case-insensitive)\n",
    "filtered_rows = debar_clean[\n",
    "    debar_clean[\"name_clean\"].str.contains(pos_substr, case=False) |\n",
    "    debar_clean[\"name_clean\"].str.contains(neg_substr, case=False)\n",
    "]\n",
    "\n",
    "# Display relevant columns\n",
    "print(filtered_rows[[\"name_clean\", \"co_name\", \"ind_name\", \"Violation\"]])"
   ]
  },
  {
   "cell_type": "markdown",
   "metadata": {},
   "source": [
    "# 4. Optional extra credit 2 (up to 3 points)\n",
    "\n",
    "- For 1 point extra credit, create a visualization with 1+ of the existing fields in either the raw `jobs` or `debar` data. We'll be showing cool visualizations in class so use your imagination! Options could include visualizing between-state or over-time variation\n",
    "\n",
    "- For 3 points extra credit instead, geocode the employer addresses in `jobs` and plot the addresses of jobs as points overlaid on top of a map of Georgia \n",
    "    - **Note**: this extra credit involves Googling since we have not yet covered spatial data. \n",
    "        - For discussion of how to geocode addresses -> lat/long, see: https://www.natasshaselvaraj.com/a-step-by-step-guide-on-geocoding-in-python/ \n",
    "        - For discussion of plotting lat/long dots against a map, see this discussion of geopandas: https://towardsdatascience.com/plotting-maps-with-geopandas-428c97295a73\n",
    "    - Relevant columns include `EMPLOYER_ADDRESS_1` \n",
    "    - The geocoding might have a long runtime so feel free to implement it in a separate .py script that you submit alongside your notebook and to just read in the geocoded data"
   ]
  },
  {
   "cell_type": "code",
   "execution_count": 47,
   "metadata": {},
   "outputs": [
    {
     "data": {
      "text/plain": [
       "<Figure size 1000x600 with 0 Axes>"
      ]
     },
     "execution_count": 47,
     "metadata": {},
     "output_type": "execute_result"
    },
    {
     "data": {
      "text/plain": [
       "<BarContainer object of 37 artists>"
      ]
     },
     "execution_count": 47,
     "metadata": {},
     "output_type": "execute_result"
    },
    {
     "data": {
      "text/plain": [
       "([0,\n",
       "  1,\n",
       "  2,\n",
       "  3,\n",
       "  4,\n",
       "  5,\n",
       "  6,\n",
       "  7,\n",
       "  8,\n",
       "  9,\n",
       "  10,\n",
       "  11,\n",
       "  12,\n",
       "  13,\n",
       "  14,\n",
       "  15,\n",
       "  16,\n",
       "  17,\n",
       "  18,\n",
       "  19,\n",
       "  20,\n",
       "  21,\n",
       "  22,\n",
       "  23,\n",
       "  24,\n",
       "  25,\n",
       "  26,\n",
       "  27,\n",
       "  28,\n",
       "  29,\n",
       "  30,\n",
       "  31,\n",
       "  32,\n",
       "  33,\n",
       "  34,\n",
       "  35,\n",
       "  36],\n",
       " [Text(0, 0, 'TX'),\n",
       "  Text(1, 0, 'GA'),\n",
       "  Text(2, 0, 'Georgia'),\n",
       "  Text(3, 0, 'FL'),\n",
       "  Text(4, 0, 'KS'),\n",
       "  Text(5, 0, 'KY'),\n",
       "  Text(6, 0, 'SD'),\n",
       "  Text(7, 0, 'Texas'),\n",
       "  Text(8, 0, 'NY'),\n",
       "  Text(9, 0, 'North Dakota'),\n",
       "  Text(10, 0, 'CO'),\n",
       "  Text(11, 0, 'CA'),\n",
       "  Text(12, 0, 'UT'),\n",
       "  Text(13, 0, 'ND'),\n",
       "  Text(14, 0, 'LA'),\n",
       "  Text(15, 0, 'OK'),\n",
       "  Text(16, 0, 'Florida'),\n",
       "  Text(17, 0, 'Utah'),\n",
       "  Text(18, 0, 'AR'),\n",
       "  Text(19, 0, 'MT'),\n",
       "  Text(20, 0, 'Tennessee'),\n",
       "  Text(21, 0, 'IL'),\n",
       "  Text(22, 0, 'Massachusetts'),\n",
       "  Text(23, 0, 'Idaho'),\n",
       "  Text(24, 0, 'North Carolina'),\n",
       "  Text(25, 0, 'Louisiana'),\n",
       "  Text(26, 0, 'MD'),\n",
       "  Text(27, 0, 'AK'),\n",
       "  Text(28, 0, 'Vermont'),\n",
       "  Text(29, 0, 'Arkansas'),\n",
       "  Text(30, 0, 'California'),\n",
       "  Text(31, 0, 'SC'),\n",
       "  Text(32, 0, 'ID'),\n",
       "  Text(33, 0, 'MN'),\n",
       "  Text(34, 0, 'MA'),\n",
       "  Text(35, 0, 'Kansas'),\n",
       "  Text(36, 0, 'ME')])"
      ]
     },
     "execution_count": 47,
     "metadata": {},
     "output_type": "execute_result"
    },
    {
     "data": {
      "text/plain": [
       "Text(0.5, 1.0, 'Number of Debar Violations by State')"
      ]
     },
     "execution_count": 47,
     "metadata": {},
     "output_type": "execute_result"
    },
    {
     "data": {
      "text/plain": [
       "Text(0.5, 0, 'State')"
      ]
     },
     "execution_count": 47,
     "metadata": {},
     "output_type": "execute_result"
    },
    {
     "data": {
      "text/plain": [
       "Text(0, 0.5, 'Number of Violations')"
      ]
     },
     "execution_count": 47,
     "metadata": {},
     "output_type": "execute_result"
    },
    {
     "data": {
      "image/png": "[encoded data removed]",
      "text/plain": [
       "<Figure size 1000x600 with 1 Axes>"
      ]
     },
     "metadata": {},
     "output_type": "display_data"
    },
    {
     "name": "stdout",
     "output_type": "stream",
     "text": [
      "     state  violations\n",
      "0       TX          11\n",
      "1       GA           9\n",
      "2  Georgia           9\n",
      "3       FL           7\n",
      "4       KS           7\n"
     ]
    },
    {
     "data": {
      "application/vnd.plotly.v1+json": {
       "config": {
        "plotlyServerURL": "https://plot.ly"
       },
       "data": [
        {
         "coloraxis": "coloraxis",
         "geo": "geo",
         "hovertemplate": "state=%{location}<br>Num Debar Violations=%{z}<extra></extra>",
         "locationmode": "USA-states",
         "locations": [
          "TX",
          "GA",
          "Georgia",
          "FL",
          "KS",
          "KY",
          "SD",
          "Texas",
          "NY",
          "North Dakota",
          "CO",
          "CA",
          "UT",
          "ND",
          "LA",
          "OK",
          "Florida",
          "Utah",
          "AR",
          "MT",
          "Tennessee",
          "IL",
          "Massachusetts",
          "Idaho",
          "North Carolina",
          "Louisiana",
          "MD",
          "AK",
          "Vermont",
          "Arkansas",
          "California",
          "SC",
          "ID",
          "MN",
          "MA",
          "Kansas",
          "ME"
         ],
         "name": "",
         "type": "choropleth",
         "z": [
          11,
          9,
          9,
          7,
          7,
          5,
          5,
          4,
          3,
          3,
          3,
          3,
          3,
          3,
          2,
          2,
          2,
          2,
          2,
          2,
          1,
          1,
          1,
          1,
          1,
          1,
          1,
          1,
          1,
          1,
          1,
          1,
          1,
          1,
          1,
          1,
          1
         ]
        }
       ],
       "layout": {
        "autosize": true,
        "coloraxis": {
         "colorbar": {
          "title": {
           "text": "Num Debar Violations"
          }
         },
         "colorscale": [
          [
           0,
           "rgb(247,251,255)"
          ],
          [
           0.125,
           "rgb(222,235,247)"
          ],
          [
           0.25,
           "rgb(198,219,239)"
          ],
          [
           0.375,
           "rgb(158,202,225)"
          ],
          [
           0.5,
           "rgb(107,174,214)"
          ],
          [
           0.625,
           "rgb(66,146,198)"
          ],
          [
           0.75,
           "rgb(33,113,181)"
          ],
          [
           0.875,
           "rgb(8,81,156)"
          ],
          [
           1,
           "rgb(8,48,107)"
          ]
         ]
        },
        "geo": {
         "center": {
          "lat": 41.962902769997264,
          "lon": -95.36341798710333
         },
         "domain": {
          "x": [
           0,
           1
          ],
          "y": [
           0,
           1
          ]
         },
         "projection": {
          "scale": 0.7053986073759949
         },
         "scope": "usa"
        },
        "legend": {
         "tracegroupgap": 0
        },
        "margin": {
         "t": 60
        },
        "template": {
         "data": {
          "bar": [
           {
            "error_x": {
             "color": "#2a3f5f"
            },
            "error_y": {
             "color": "#2a3f5f"
            },
            "marker": {
             "line": {
              "color": "#E5ECF6",
              "width": 0.5
             },
             "pattern": {
              "fillmode": "overlay",
              "size": 10,
              "solidity": 0.2
             }
            },
            "type": "bar"
           }
          ],
          "barpolar": [
           {
            "marker": {
             "line": {
              "color": "#E5ECF6",
              "width": 0.5
             },
             "pattern": {
              "fillmode": "overlay",
              "size": 10,
              "solidity": 0.2
             }
            },
            "type": "barpolar"
           }
          ],
          "carpet": [
           {
            "aaxis": {
             "endlinecolor": "#2a3f5f",
             "gridcolor": "white",
             "linecolor": "white",
             "minorgridcolor": "white",
             "startlinecolor": "#2a3f5f"
            },
            "baxis": {
             "endlinecolor": "#2a3f5f",
             "gridcolor": "white",
             "linecolor": "white",
             "minorgridcolor": "white",
             "startlinecolor": "#2a3f5f"
            },
            "type": "carpet"
           }
          ],
          "choropleth": [
           {
            "colorbar": {
             "outlinewidth": 0,
             "ticks": ""
            },
            "type": "choropleth"
           }
          ],
          "contour": [
           {
            "colorbar": {
             "outlinewidth": 0,
             "ticks": ""
            },
            "colorscale": [
             [
              0,
              "#0d0887"
             ],
             [
              0.1111111111111111,
              "#46039f"
             ],
             [
              0.2222222222222222,
              "#7201a8"
             ],
             [
              0.3333333333333333,
              "#9c179e"
             ],
             [
              0.4444444444444444,
              "#bd3786"
             ],
             [
              0.5555555555555556,
              "#d8576b"
             ],
             [
              0.6666666666666666,
              "#ed7953"
             ],
             [
              0.7777777777777778,
              "#fb9f3a"
             ],
             [
              0.8888888888888888,
              "#fdca26"
             ],
             [
              1,
              "#f0f921"
             ]
            ],
            "type": "contour"
           }
          ],
          "contourcarpet": [
           {
            "colorbar": {
             "outlinewidth": 0,
             "ticks": ""
            },
            "type": "contourcarpet"
           }
          ],
          "heatmap": [
           {
            "colorbar": {
             "outlinewidth": 0,
             "ticks": ""
            },
            "colorscale": [
             [
              0,
              "#0d0887"
             ],
             [
              0.1111111111111111,
              "#46039f"
             ],
             [
              0.2222222222222222,
              "#7201a8"
             ],
             [
              0.3333333333333333,
              "#9c179e"
             ],
             [
              0.4444444444444444,
              "#bd3786"
             ],
             [
              0.5555555555555556,
              "#d8576b"
             ],
             [
              0.6666666666666666,
              "#ed7953"
             ],
             [
              0.7777777777777778,
              "#fb9f3a"
             ],
             [
              0.8888888888888888,
              "#fdca26"
             ],
             [
              1,
              "#f0f921"
             ]
            ],
            "type": "heatmap"
           }
          ],
          "heatmapgl": [
           {
            "colorbar": {
             "outlinewidth": 0,
             "ticks": ""
            },
            "colorscale": [
             [
              0,
              "#0d0887"
             ],
             [
              0.1111111111111111,
              "#46039f"
             ],
             [
              0.2222222222222222,
              "#7201a8"
             ],
             [
              0.3333333333333333,
              "#9c179e"
             ],
             [
              0.4444444444444444,
              "#bd3786"
             ],
             [
              0.5555555555555556,
              "#d8576b"
             ],
             [
              0.6666666666666666,
              "#ed7953"
             ],
             [
              0.7777777777777778,
              "#fb9f3a"
             ],
             [
              0.8888888888888888,
              "#fdca26"
             ],
             [
              1,
              "#f0f921"
             ]
            ],
            "type": "heatmapgl"
           }
          ],
          "histogram": [
           {
            "marker": {
             "pattern": {
              "fillmode": "overlay",
              "size": 10,
              "solidity": 0.2
             }
            },
            "type": "histogram"
           }
          ],
          "histogram2d": [
           {
            "colorbar": {
             "outlinewidth": 0,
             "ticks": ""
            },
            "colorscale": [
             [
              0,
              "#0d0887"
             ],
             [
              0.1111111111111111,
              "#46039f"
             ],
             [
              0.2222222222222222,
              "#7201a8"
             ],
             [
              0.3333333333333333,
              "#9c179e"
             ],
             [
              0.4444444444444444,
              "#bd3786"
             ],
             [
              0.5555555555555556,
              "#d8576b"
             ],
             [
              0.6666666666666666,
              "#ed7953"
             ],
             [
              0.7777777777777778,
              "#fb9f3a"
             ],
             [
              0.8888888888888888,
              "#fdca26"
             ],
             [
              1,
              "#f0f921"
             ]
            ],
            "type": "histogram2d"
           }
          ],
          "histogram2dcontour": [
           {
            "colorbar": {
             "outlinewidth": 0,
             "ticks": ""
            },
            "colorscale": [
             [
              0,
              "#0d0887"
             ],
             [
              0.1111111111111111,
              "#46039f"
             ],
             [
              0.2222222222222222,
              "#7201a8"
             ],
             [
              0.3333333333333333,
              "#9c179e"
             ],
             [
              0.4444444444444444,
              "#bd3786"
             ],
             [
              0.5555555555555556,
              "#d8576b"
             ],
             [
              0.6666666666666666,
              "#ed7953"
             ],
             [
              0.7777777777777778,
              "#fb9f3a"
             ],
             [
              0.8888888888888888,
              "#fdca26"
             ],
             [
              1,
              "#f0f921"
             ]
            ],
            "type": "histogram2dcontour"
           }
          ],
          "mesh3d": [
           {
            "colorbar": {
             "outlinewidth": 0,
             "ticks": ""
            },
            "type": "mesh3d"
           }
          ],
          "parcoords": [
           {
            "line": {
             "colorbar": {
              "outlinewidth": 0,
              "ticks": ""
             }
            },
            "type": "parcoords"
           }
          ],
          "pie": [
           {
            "automargin": true,
            "type": "pie"
           }
          ],
          "scatter": [
           {
            "fillpattern": {
             "fillmode": "overlay",
             "size": 10,
             "solidity": 0.2
            },
            "type": "scatter"
           }
          ],
          "scatter3d": [
           {
            "line": {
             "colorbar": {
              "outlinewidth": 0,
              "ticks": ""
             }
            },
            "marker": {
             "colorbar": {
              "outlinewidth": 0,
              "ticks": ""
             }
            },
            "type": "scatter3d"
           }
          ],
          "scattercarpet": [
           {
            "marker": {
             "colorbar": {
              "outlinewidth": 0,
              "ticks": ""
             }
            },
            "type": "scattercarpet"
           }
          ],
          "scattergeo": [
           {
            "marker": {
             "colorbar": {
              "outlinewidth": 0,
              "ticks": ""
             }
            },
            "type": "scattergeo"
           }
          ],
          "scattergl": [
           {
            "marker": {
             "colorbar": {
              "outlinewidth": 0,
              "ticks": ""
             }
            },
            "type": "scattergl"
           }
          ],
          "scattermapbox": [
           {
            "marker": {
             "colorbar": {
              "outlinewidth": 0,
              "ticks": ""
             }
            },
            "type": "scattermapbox"
           }
          ],
          "scatterpolar": [
           {
            "marker": {
             "colorbar": {
              "outlinewidth": 0,
              "ticks": ""
             }
            },
            "type": "scatterpolar"
           }
          ],
          "scatterpolargl": [
           {
            "marker": {
             "colorbar": {
              "outlinewidth": 0,
              "ticks": ""
             }
            },
            "type": "scatterpolargl"
           }
          ],
          "scatterternary": [
           {
            "marker": {
             "colorbar": {
              "outlinewidth": 0,
              "ticks": ""
             }
            },
            "type": "scatterternary"
           }
          ],
          "surface": [
           {
            "colorbar": {
             "outlinewidth": 0,
             "ticks": ""
            },
            "colorscale": [
             [
              0,
              "#0d0887"
             ],
             [
              0.1111111111111111,
              "#46039f"
             ],
             [
              0.2222222222222222,
              "#7201a8"
             ],
             [
              0.3333333333333333,
              "#9c179e"
             ],
             [
              0.4444444444444444,
              "#bd3786"
             ],
             [
              0.5555555555555556,
              "#d8576b"
             ],
             [
              0.6666666666666666,
              "#ed7953"
             ],
             [
              0.7777777777777778,
              "#fb9f3a"
             ],
             [
              0.8888888888888888,
              "#fdca26"
             ],
             [
              1,
              "#f0f921"
             ]
            ],
            "type": "surface"
           }
          ],
          "table": [
           {
            "cells": {
             "fill": {
              "color": "#EBF0F8"
             },
             "line": {
              "color": "white"
             }
            },
            "header": {
             "fill": {
              "color": "#C8D4E3"
             },
             "line": {
              "color": "white"
             }
            },
            "type": "table"
           }
          ]
         },
         "layout": {
          "annotationdefaults": {
           "arrowcolor": "#2a3f5f",
           "arrowhead": 0,
           "arrowwidth": 1
          },
          "autotypenumbers": "strict",
          "coloraxis": {
           "colorbar": {
            "outlinewidth": 0,
            "ticks": ""
           }
          },
          "colorscale": {
           "diverging": [
            [
             0,
             "#8e0152"
            ],
            [
             0.1,
             "#c51b7d"
            ],
            [
             0.2,
             "#de77ae"
            ],
            [
             0.3,
             "#f1b6da"
            ],
            [
             0.4,
             "#fde0ef"
            ],
            [
             0.5,
             "#f7f7f7"
            ],
            [
             0.6,
             "#e6f5d0"
            ],
            [
             0.7,
             "#b8e186"
            ],
            [
             0.8,
             "#7fbc41"
            ],
            [
             0.9,
             "#4d9221"
            ],
            [
             1,
             "#276419"
            ]
           ],
           "sequential": [
            [
             0,
             "#0d0887"
            ],
            [
             0.1111111111111111,
             "#46039f"
            ],
            [
             0.2222222222222222,
             "#7201a8"
            ],
            [
             0.3333333333333333,
             "#9c179e"
            ],
            [
             0.4444444444444444,
             "#bd3786"
            ],
            [
             0.5555555555555556,
             "#d8576b"
            ],
            [
             0.6666666666666666,
             "#ed7953"
            ],
            [
             0.7777777777777778,
             "#fb9f3a"
            ],
            [
             0.8888888888888888,
             "#fdca26"
            ],
            [
             1,
             "#f0f921"
            ]
           ],
           "sequentialminus": [
            [
             0,
             "#0d0887"
            ],
            [
             0.1111111111111111,
             "#46039f"
            ],
            [
             0.2222222222222222,
             "#7201a8"
            ],
            [
             0.3333333333333333,
             "#9c179e"
            ],
            [
             0.4444444444444444,
             "#bd3786"
            ],
            [
             0.5555555555555556,
             "#d8576b"
            ],
            [
             0.6666666666666666,
             "#ed7953"
            ],
            [
             0.7777777777777778,
             "#fb9f3a"
            ],
            [
             0.8888888888888888,
             "#fdca26"
            ],
            [
             1,
             "#f0f921"
            ]
           ]
          },
          "colorway": [
           "#636efa",
           "#EF553B",
           "#00cc96",
           "#ab63fa",
           "#FFA15A",
           "#19d3f3",
           "#FF6692",
           "#B6E880",
           "#FF97FF",
           "#FECB52"
          ],
          "font": {
           "color": "#2a3f5f"
          },
          "geo": {
           "bgcolor": "white",
           "lakecolor": "white",
           "landcolor": "#E5ECF6",
           "showlakes": true,
           "showland": true,
           "subunitcolor": "white"
          },
          "hoverlabel": {
           "align": "left"
          },
          "hovermode": "closest",
          "mapbox": {
           "style": "light"
          },
          "paper_bgcolor": "white",
          "plot_bgcolor": "#E5ECF6",
          "polar": {
           "angularaxis": {
            "gridcolor": "white",
            "linecolor": "white",
            "ticks": ""
           },
           "bgcolor": "#E5ECF6",
           "radialaxis": {
            "gridcolor": "white",
            "linecolor": "white",
            "ticks": ""
           }
          },
          "scene": {
           "xaxis": {
            "backgroundcolor": "#E5ECF6",
            "gridcolor": "white",
            "gridwidth": 2,
            "linecolor": "white",
            "showbackground": true,
            "ticks": "",
            "zerolinecolor": "white"
           },
           "yaxis": {
            "backgroundcolor": "#E5ECF6",
            "gridcolor": "white",
            "gridwidth": 2,
            "linecolor": "white",
            "showbackground": true,
            "ticks": "",
            "zerolinecolor": "white"
           },
           "zaxis": {
            "backgroundcolor": "#E5ECF6",
            "gridcolor": "white",
            "gridwidth": 2,
            "linecolor": "white",
            "showbackground": true,
            "ticks": "",
            "zerolinecolor": "white"
           }
          },
          "shapedefaults": {
           "line": {
            "color": "#2a3f5f"
           }
          },
          "ternary": {
           "aaxis": {
            "gridcolor": "white",
            "linecolor": "white",
            "ticks": ""
           },
           "baxis": {
            "gridcolor": "white",
            "linecolor": "white",
            "ticks": ""
           },
           "bgcolor": "#E5ECF6",
           "caxis": {
            "gridcolor": "white",
            "linecolor": "white",
            "ticks": ""
           }
          },
          "title": {
           "x": 0.05
          },
          "xaxis": {
           "automargin": true,
           "gridcolor": "white",
           "linecolor": "white",
           "ticks": "",
           "title": {
            "standoff": 15
           },
           "zerolinecolor": "white",
           "zerolinewidth": 2
          },
          "yaxis": {
           "automargin": true,
           "gridcolor": "white",
           "linecolor": "white",
           "ticks": "",
           "title": {
            "standoff": 15
           },
           "zerolinecolor": "white",
           "zerolinewidth": 2
          }
         }
        },
        "title": {
         "text": "Debar Violations by State (USA)"
        }
       }
      },
      "image/png": "[encoded data removed]",
      "text/html": [
       "<div>                            <div id=\"c190e23d-b2b4-4e8c-9c5b-9ea952c486ac\" class=\"plotly-graph-div\" style=\"height:525px; width:100%;\"></div>            <script type=\"text/javascript\">                require([\"plotly\"], function(Plotly) {                    window.PLOTLYENV=window.PLOTLYENV || {};                                    if (document.getElementById(\"c190e23d-b2b4-4e8c-9c5b-9ea952c486ac\")) {                    Plotly.newPlot(                        \"c190e23d-b2b4-4e8c-9c5b-9ea952c486ac\",                        [{\"coloraxis\":\"coloraxis\",\"geo\":\"geo\",\"hovertemplate\":\"state=%{location}\\u003cbr\\u003eNum Debar Violations=%{z}\\u003cextra\\u003e\\u003c\\u002fextra\\u003e\",\"locationmode\":\"USA-states\",\"locations\":[\"TX\",\"GA\",\"Georgia\",\"FL\",\"KS\",\"KY\",\"SD\",\"Texas\",\"NY\",\"North Dakota\",\"CO\",\"CA\",\"UT\",\"ND\",\"LA\",\"OK\",\"Florida\",\"Utah\",\"AR\",\"MT\",\"Tennessee\",\"IL\",\"Massachusetts\",\"Idaho\",\"North Carolina\",\"Louisiana\",\"MD\",\"AK\",\"Vermont\",\"Arkansas\",\"California\",\"SC\",\"ID\",\"MN\",\"MA\",\"Kansas\",\"ME\"],\"name\":\"\",\"z\":[11,9,9,7,7,5,5,4,3,3,3,3,3,3,2,2,2,2,2,2,1,1,1,1,1,1,1,1,1,1,1,1,1,1,1,1,1],\"type\":\"choropleth\"}],                        {\"template\":{\"data\":{\"histogram2dcontour\":[{\"type\":\"histogram2dcontour\",\"colorbar\":{\"outlinewidth\":0,\"ticks\":\"\"},\"colorscale\":[[0.0,\"#0d0887\"],[0.1111111111111111,\"#46039f\"],[0.2222222222222222,\"#7201a8\"],[0.3333333333333333,\"#9c179e\"],[0.4444444444444444,\"#bd3786\"],[0.5555555555555556,\"#d8576b\"],[0.6666666666666666,\"#ed7953\"],[0.7777777777777778,\"#fb9f3a\"],[0.8888888888888888,\"#fdca26\"],[1.0,\"#f0f921\"]]}],\"choropleth\":[{\"type\":\"choropleth\",\"colorbar\":{\"outlinewidth\":0,\"ticks\":\"\"}}],\"histogram2d\":[{\"type\":\"histogram2d\",\"colorbar\":{\"outlinewidth\":0,\"ticks\":\"\"},\"colorscale\":[[0.0,\"#0d0887\"],[0.1111111111111111,\"#46039f\"],[0.2222222222222222,\"#7201a8\"],[0.3333333333333333,\"#9c179e\"],[0.4444444444444444,\"#bd3786\"],[0.5555555555555556,\"#d8576b\"],[0.6666666666666666,\"#ed7953\"],[0.7777777777777778,\"#fb9f3a\"],[0.8888888888888888,\"#fdca26\"],[1.0,\"#f0f921\"]]}],\"heatmap\":[{\"type\":\"heatmap\",\"colorbar\":{\"outlinewidth\":0,\"ticks\":\"\"},\"colorscale\":[[0.0,\"#0d0887\"],[0.1111111111111111,\"#46039f\"],[0.2222222222222222,\"#7201a8\"],[0.3333333333333333,\"#9c179e\"],[0.4444444444444444,\"#bd3786\"],[0.5555555555555556,\"#d8576b\"],[0.6666666666666666,\"#ed7953\"],[0.7777777777777778,\"#fb9f3a\"],[0.8888888888888888,\"#fdca26\"],[1.0,\"#f0f921\"]]}],\"heatmapgl\":[{\"type\":\"heatmapgl\",\"colorbar\":{\"outlinewidth\":0,\"ticks\":\"\"},\"colorscale\":[[0.0,\"#0d0887\"],[0.1111111111111111,\"#46039f\"],[0.2222222222222222,\"#7201a8\"],[0.3333333333333333,\"#9c179e\"],[0.4444444444444444,\"#bd3786\"],[0.5555555555555556,\"#d8576b\"],[0.6666666666666666,\"#ed7953\"],[0.7777777777777778,\"#fb9f3a\"],[0.8888888888888888,\"#fdca26\"],[1.0,\"#f0f921\"]]}],\"contourcarpet\":[{\"type\":\"contourcarpet\",\"colorbar\":{\"outlinewidth\":0,\"ticks\":\"\"}}],\"contour\":[{\"type\":\"contour\",\"colorbar\":{\"outlinewidth\":0,\"ticks\":\"\"},\"colorscale\":[[0.0,\"#0d0887\"],[0.1111111111111111,\"#46039f\"],[0.2222222222222222,\"#7201a8\"],[0.3333333333333333,\"#9c179e\"],[0.4444444444444444,\"#bd3786\"],[0.5555555555555556,\"#d8576b\"],[0.6666666666666666,\"#ed7953\"],[0.7777777777777778,\"#fb9f3a\"],[0.8888888888888888,\"#fdca26\"],[1.0,\"#f0f921\"]]}],\"surface\":[{\"type\":\"surface\",\"colorbar\":{\"outlinewidth\":0,\"ticks\":\"\"},\"colorscale\":[[0.0,\"#0d0887\"],[0.1111111111111111,\"#46039f\"],[0.2222222222222222,\"#7201a8\"],[0.3333333333333333,\"#9c179e\"],[0.4444444444444444,\"#bd3786\"],[0.5555555555555556,\"#d8576b\"],[0.6666666666666666,\"#ed7953\"],[0.7777777777777778,\"#fb9f3a\"],[0.8888888888888888,\"#fdca26\"],[1.0,\"#f0f921\"]]}],\"mesh3d\":[{\"type\":\"mesh3d\",\"colorbar\":{\"outlinewidth\":0,\"ticks\":\"\"}}],\"scatter\":[{\"fillpattern\":{\"fillmode\":\"overlay\",\"size\":10,\"solidity\":0.2},\"type\":\"scatter\"}],\"parcoords\":[{\"type\":\"parcoords\",\"line\":{\"colorbar\":{\"outlinewidth\":0,\"ticks\":\"\"}}}],\"scatterpolargl\":[{\"type\":\"scatterpolargl\",\"marker\":{\"colorbar\":{\"outlinewidth\":0,\"ticks\":\"\"}}}],\"bar\":[{\"error_x\":{\"color\":\"#2a3f5f\"},\"error_y\":{\"color\":\"#2a3f5f\"},\"marker\":{\"line\":{\"color\":\"#E5ECF6\",\"width\":0.5},\"pattern\":{\"fillmode\":\"overlay\",\"size\":10,\"solidity\":0.2}},\"type\":\"bar\"}],\"scattergeo\":[{\"type\":\"scattergeo\",\"marker\":{\"colorbar\":{\"outlinewidth\":0,\"ticks\":\"\"}}}],\"scatterpolar\":[{\"type\":\"scatterpolar\",\"marker\":{\"colorbar\":{\"outlinewidth\":0,\"ticks\":\"\"}}}],\"histogram\":[{\"marker\":{\"pattern\":{\"fillmode\":\"overlay\",\"size\":10,\"solidity\":0.2}},\"type\":\"histogram\"}],\"scattergl\":[{\"type\":\"scattergl\",\"marker\":{\"colorbar\":{\"outlinewidth\":0,\"ticks\":\"\"}}}],\"scatter3d\":[{\"type\":\"scatter3d\",\"line\":{\"colorbar\":{\"outlinewidth\":0,\"ticks\":\"\"}},\"marker\":{\"colorbar\":{\"outlinewidth\":0,\"ticks\":\"\"}}}],\"scattermapbox\":[{\"type\":\"scattermapbox\",\"marker\":{\"colorbar\":{\"outlinewidth\":0,\"ticks\":\"\"}}}],\"scatterternary\":[{\"type\":\"scatterternary\",\"marker\":{\"colorbar\":{\"outlinewidth\":0,\"ticks\":\"\"}}}],\"scattercarpet\":[{\"type\":\"scattercarpet\",\"marker\":{\"colorbar\":{\"outlinewidth\":0,\"ticks\":\"\"}}}],\"carpet\":[{\"aaxis\":{\"endlinecolor\":\"#2a3f5f\",\"gridcolor\":\"white\",\"linecolor\":\"white\",\"minorgridcolor\":\"white\",\"startlinecolor\":\"#2a3f5f\"},\"baxis\":{\"endlinecolor\":\"#2a3f5f\",\"gridcolor\":\"white\",\"linecolor\":\"white\",\"minorgridcolor\":\"white\",\"startlinecolor\":\"#2a3f5f\"},\"type\":\"carpet\"}],\"table\":[{\"cells\":{\"fill\":{\"color\":\"#EBF0F8\"},\"line\":{\"color\":\"white\"}},\"header\":{\"fill\":{\"color\":\"#C8D4E3\"},\"line\":{\"color\":\"white\"}},\"type\":\"table\"}],\"barpolar\":[{\"marker\":{\"line\":{\"color\":\"#E5ECF6\",\"width\":0.5},\"pattern\":{\"fillmode\":\"overlay\",\"size\":10,\"solidity\":0.2}},\"type\":\"barpolar\"}],\"pie\":[{\"automargin\":true,\"type\":\"pie\"}]},\"layout\":{\"autotypenumbers\":\"strict\",\"colorway\":[\"#636efa\",\"#EF553B\",\"#00cc96\",\"#ab63fa\",\"#FFA15A\",\"#19d3f3\",\"#FF6692\",\"#B6E880\",\"#FF97FF\",\"#FECB52\"],\"font\":{\"color\":\"#2a3f5f\"},\"hovermode\":\"closest\",\"hoverlabel\":{\"align\":\"left\"},\"paper_bgcolor\":\"white\",\"plot_bgcolor\":\"#E5ECF6\",\"polar\":{\"bgcolor\":\"#E5ECF6\",\"angularaxis\":{\"gridcolor\":\"white\",\"linecolor\":\"white\",\"ticks\":\"\"},\"radialaxis\":{\"gridcolor\":\"white\",\"linecolor\":\"white\",\"ticks\":\"\"}},\"ternary\":{\"bgcolor\":\"#E5ECF6\",\"aaxis\":{\"gridcolor\":\"white\",\"linecolor\":\"white\",\"ticks\":\"\"},\"baxis\":{\"gridcolor\":\"white\",\"linecolor\":\"white\",\"ticks\":\"\"},\"caxis\":{\"gridcolor\":\"white\",\"linecolor\":\"white\",\"ticks\":\"\"}},\"coloraxis\":{\"colorbar\":{\"outlinewidth\":0,\"ticks\":\"\"}},\"colorscale\":{\"sequential\":[[0.0,\"#0d0887\"],[0.1111111111111111,\"#46039f\"],[0.2222222222222222,\"#7201a8\"],[0.3333333333333333,\"#9c179e\"],[0.4444444444444444,\"#bd3786\"],[0.5555555555555556,\"#d8576b\"],[0.6666666666666666,\"#ed7953\"],[0.7777777777777778,\"#fb9f3a\"],[0.8888888888888888,\"#fdca26\"],[1.0,\"#f0f921\"]],\"sequentialminus\":[[0.0,\"#0d0887\"],[0.1111111111111111,\"#46039f\"],[0.2222222222222222,\"#7201a8\"],[0.3333333333333333,\"#9c179e\"],[0.4444444444444444,\"#bd3786\"],[0.5555555555555556,\"#d8576b\"],[0.6666666666666666,\"#ed7953\"],[0.7777777777777778,\"#fb9f3a\"],[0.8888888888888888,\"#fdca26\"],[1.0,\"#f0f921\"]],\"diverging\":[[0,\"#8e0152\"],[0.1,\"#c51b7d\"],[0.2,\"#de77ae\"],[0.3,\"#f1b6da\"],[0.4,\"#fde0ef\"],[0.5,\"#f7f7f7\"],[0.6,\"#e6f5d0\"],[0.7,\"#b8e186\"],[0.8,\"#7fbc41\"],[0.9,\"#4d9221\"],[1,\"#276419\"]]},\"xaxis\":{\"gridcolor\":\"white\",\"linecolor\":\"white\",\"ticks\":\"\",\"title\":{\"standoff\":15},\"zerolinecolor\":\"white\",\"automargin\":true,\"zerolinewidth\":2},\"yaxis\":{\"gridcolor\":\"white\",\"linecolor\":\"white\",\"ticks\":\"\",\"title\":{\"standoff\":15},\"zerolinecolor\":\"white\",\"automargin\":true,\"zerolinewidth\":2},\"scene\":{\"xaxis\":{\"backgroundcolor\":\"#E5ECF6\",\"gridcolor\":\"white\",\"linecolor\":\"white\",\"showbackground\":true,\"ticks\":\"\",\"zerolinecolor\":\"white\",\"gridwidth\":2},\"yaxis\":{\"backgroundcolor\":\"#E5ECF6\",\"gridcolor\":\"white\",\"linecolor\":\"white\",\"showbackground\":true,\"ticks\":\"\",\"zerolinecolor\":\"white\",\"gridwidth\":2},\"zaxis\":{\"backgroundcolor\":\"#E5ECF6\",\"gridcolor\":\"white\",\"linecolor\":\"white\",\"showbackground\":true,\"ticks\":\"\",\"zerolinecolor\":\"white\",\"gridwidth\":2}},\"shapedefaults\":{\"line\":{\"color\":\"#2a3f5f\"}},\"annotationdefaults\":{\"arrowcolor\":\"#2a3f5f\",\"arrowhead\":0,\"arrowwidth\":1},\"geo\":{\"bgcolor\":\"white\",\"landcolor\":\"#E5ECF6\",\"subunitcolor\":\"white\",\"showland\":true,\"showlakes\":true,\"lakecolor\":\"white\"},\"title\":{\"x\":0.05},\"mapbox\":{\"style\":\"light\"}}},\"geo\":{\"domain\":{\"x\":[0.0,1.0],\"y\":[0.0,1.0]},\"center\":{},\"scope\":\"usa\"},\"coloraxis\":{\"colorbar\":{\"title\":{\"text\":\"Num Debar Violations\"}},\"colorscale\":[[0.0,\"rgb(247,251,255)\"],[0.125,\"rgb(222,235,247)\"],[0.25,\"rgb(198,219,239)\"],[0.375,\"rgb(158,202,225)\"],[0.5,\"rgb(107,174,214)\"],[0.625,\"rgb(66,146,198)\"],[0.75,\"rgb(33,113,181)\"],[0.875,\"rgb(8,81,156)\"],[1.0,\"rgb(8,48,107)\"]]},\"legend\":{\"tracegroupgap\":0},\"margin\":{\"t\":60},\"title\":{\"text\":\"Debar Violations by State (USA)\"}},                        {\"responsive\": true}                    ).then(function(){\n",
       "                            \n",
       "var gd = document.getElementById('c190e23d-b2b4-4e8c-9c5b-9ea952c486ac');\n",
       "var x = new MutationObserver(function (mutations, observer) {{\n",
       "        var display = window.getComputedStyle(gd).display;\n",
       "        if (!display || display === 'none') {{\n",
       "            console.log([gd, 'removed!']);\n",
       "            Plotly.purge(gd);\n",
       "            observer.disconnect();\n",
       "        }}\n",
       "}});\n",
       "\n",
       "// Listen for the removal of the full notebook cells\n",
       "var notebookContainer = gd.closest('#notebook-container');\n",
       "if (notebookContainer) {{\n",
       "    x.observe(notebookContainer, {childList: true});\n",
       "}}\n",
       "\n",
       "// Listen for the clearing of the current output cell\n",
       "var outputEl = gd.closest('.output');\n",
       "if (outputEl) {{\n",
       "    x.observe(outputEl, {childList: true});\n",
       "}}\n",
       "\n",
       "                        })                };                });            </script>        </div>"
      ]
     },
     "metadata": {},
     "output_type": "display_data"
    }
   ],
   "source": [
    "## your code here\n",
    "import matplotlib.pyplot as plt\n",
    "\n",
    "# Extract state from the \"City, State\" column\n",
    "debar_clean['State'] = debar_clean['City, State'].str.split(',').str[1].str.strip()\n",
    "\n",
    "# Count how many violations occurred in each state\n",
    "state_counts = debar_clean['State'].value_counts()\n",
    "\n",
    "# Plot\n",
    "plt.figure(figsize=(10, 6))\n",
    "plt.bar(state_counts.index, state_counts.values)\n",
    "plt.xticks(rotation=90)\n",
    "plt.title('Number of Debar Violations by State')\n",
    "plt.xlabel('State')\n",
    "plt.ylabel('Number of Violations')\n",
    "plt.tight_layout()\n",
    "plt.show()\n",
    "\n",
    "# import plotly to help with geographic expression\n",
    "import plotly.express as px\n",
    "\n",
    "# Derive the USPS state code:\n",
    "debar_clean['State'] = (debar_clean['City, State'].str.split(',').str[1].str.strip()) # take what is before comma and strip spaces\n",
    "\n",
    "# state_counts has \"state\" and \"violations\"\n",
    "state_counts = (debar_clean['State'].value_counts().rename_axis('state').reset_index(name='violations'))\n",
    "\n",
    "print(state_counts.head())\n",
    "\n",
    "# call Plotly \n",
    "fig = px.choropleth(state_counts, locations='state', locationmode=\"USA-states\", color='violations', scope=\"usa\", color_continuous_scale=\"Blues\", labels={'violations': 'Num Debar Violations'})\n",
    "fig.update_layout(title_text=\"Debar Violations by State (USA)\")"
   ]
  }
 ],
 "metadata": {
  "kernelspec": {
   "display_name": "Python 3 (ipykernel)",
   "language": "python",
   "name": "python3"
  },
  "language_info": {
   "codemirror_mode": {
    "name": "ipython",
    "version": 3
   },
   "file_extension": ".py",
   "mimetype": "text/x-python",
   "name": "python",
   "nbconvert_exporter": "python",
   "pygments_lexer": "ipython3",
   "version": "3.12.7"
  }
 },
 "nbformat": 4,
 "nbformat_minor": 4
}
