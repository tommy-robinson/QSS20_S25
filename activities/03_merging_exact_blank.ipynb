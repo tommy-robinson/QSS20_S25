{
 "cells": [
  {
   "cell_type": "markdown",
   "metadata": {},
   "source": [
    "# Imports "
   ]
  },
  {
   "cell_type": "code",
   "execution_count": 1,
   "metadata": {},
   "outputs": [],
   "source": [
    "import pandas as pd\n",
    "import numpy as np\n",
    "import os\n",
    "\n",
    "import seaborn\n",
    "\n",
    "## repeated printouts\n",
    "from IPython.core.interactiveshell import InteractiveShell\n",
    "InteractiveShell.ast_node_interactivity = \"all\""
   ]
  },
  {
   "cell_type": "markdown",
   "metadata": {},
   "source": [
    "## Read in data and make sure relevant columns are string/character \n",
    "\n",
    "- San Diego data: `naics_code` and `account_key`\n",
    "- NAICS details data: `naics` (North American Industry Classification Systems)\n",
    "\n",
    "Run code below; if pulling from github, pathname should be fine; if working elsewhere may need to edit path name at read in "
   ]
  },
  {
   "cell_type": "code",
   "execution_count": null,
   "metadata": {},
   "outputs": [],
   "source": [
    "# uncomment if u need to find your path: os.getcwd()\n",
    "SD = sd_df = pd.read_csv(\"../public_data/sd_df.csv\")\n",
    "NA = naics_df = pd.read_csv(\"../public_data/naics_df.csv\")"
   ]
  },
  {
   "cell_type": "code",
   "execution_count": null,
   "metadata": {},
   "outputs": [],
   "source": [
    "cols_sd_use = [\"naics_code\", \"account_key\"]\n",
    "cols_naics_use = [\"naics\"]\n",
    "\n",
    "sd_df[cols_sd_use] = sd_df[cols_sd_use].astype(str)\n",
    "naics_df[cols_naics_use] = naics_df[cols_naics_use].astype(str)\n",
    "\n",
    "sd_df.dtypes\n",
    "naics_df.dtypes\n",
    "sd_df.head()\n",
    "naics_df.head()"
   ]
  },
  {
   "cell_type": "markdown",
   "metadata": {},
   "source": [
    "## \"Inner join\"- retain only San Diego businesses with details on their NAICS code\n",
    "\n",
    "- Use the `naics_code` column in the San Diego business data as the join key\n",
    "- Use the `naics` column in the NAICS code details data as the join key\n",
    "\n",
    "- Do an inner join of the San Diego data onto the NAICS code details using these join keys\n",
    "- After the inner join, print some examples of San Diego businesses lost in the merge\n",
    "- Use value_counts() on the `naics_nchar` column in the San Diego data to see why they might have gotten lost\n"
   ]
  },
  {
   "cell_type": "code",
   "execution_count": null,
   "metadata": {},
   "outputs": [],
   "source": [
    "# your code here"
   ]
  },
  {
   "cell_type": "markdown",
   "metadata": {},
   "source": [
    "## \"Left join\"- retain all sd businesses even if naics code isn't in `naics_df`\n",
    "\n",
    "- Using the same join keys as above, and treating the San Diego businesses as the left hand side data, left join the naics code details onto the San Diego businesses\n",
    "- Use the `indicator` argument within merge to create an indicator, `naics_merge_status`, to help with later merge diagnostics and examine sample of ones that didn't merge\n",
    "- Use the `suffixes` argument within merge to add `_sd` as the left suffix, `_census` as the right suffix\n",
    "- Use `naics_merge_status` in the merged result to look at a sample of San Diego businesses that weren't matched with `naics_df`"
   ]
  },
  {
   "cell_type": "code",
   "execution_count": null,
   "metadata": {},
   "outputs": [],
   "source": [
    "# your code here"
   ]
  },
  {
   "cell_type": "markdown",
   "metadata": {},
   "source": [
    "## Use group by and agg to see if there are differences in merge rates by area\n",
    "\n",
    "- Using the left-joined dataframe created in previous step, create a boolean indicator, `is_lost`, that equals `True` if the merge indicator is equal to \"left_only\" (and is otherwise false)\n",
    "- Find the proportion of businesses by council district that were lost in the left join (SD businesses that failed to match to `naics_df`). To do this, group by `council_district` and use the shortcut of taking the mean of the `is_lost` indicator to find the proportions lost by `council_district`. "
   ]
  },
  {
   "cell_type": "code",
   "execution_count": null,
   "metadata": {},
   "outputs": [],
   "source": [
    "# your code here"
   ]
  },
  {
   "cell_type": "markdown",
   "metadata": {},
   "source": [
    "## Optional challenge exercise: add lagging 0's and see if merge rate improves\n",
    "\n",
    "You noticed earlier that a big reason for non-matches is that the San Diego tax certificate NAICS codes were often less than six digits long, while the Census ones were always 6 digits.\n",
    "\n",
    "You wonder if this is an issue where 0's in some of the SD's data naics codes got cut off (eg 540000 became 54), and if so whether adding these lagging zeros would improve the merge rate in a left join.\n",
    "\n",
    "- Pad the `naics_code` column in `sd_df` with 0's to get that column up to 6-digits, using one of two approaches: \n",
    "  1. `str.pad` in pandas (https://pandas.pydata.org/docs/reference/api/pandas.Series.str.pad.html)\n",
    "  2. for more of a challenge, write your own function! It should check the # of digits in the naics code string and pad it with 0's at the end up to 6 digits. To execute your function, use row-wise apply: `df.apply(lambda row: funcname(row.column), axis=1)`.\n",
    "- Perform the same left join as above and see how the match rate changes\n",
    "- Create an indicator variable--`is_new_match`---for new matches under the padded NAICS code; compare the `naics_description` column from San Diego versus Census in the new dataset for a sample of these new matches and comment on whether the padding seems to be correct"
   ]
  },
  {
   "cell_type": "code",
   "execution_count": null,
   "metadata": {},
   "outputs": [],
   "source": [
    "# your code here"
   ]
  }
 ],
 "metadata": {
  "kernelspec": {
   "display_name": "Python 3 (ipykernel)",
   "language": "python",
   "name": "python3"
  },
  "language_info": {
   "codemirror_mode": {
    "name": "ipython",
    "version": 3
   },
   "file_extension": ".py",
   "mimetype": "text/x-python",
   "name": "python",
   "nbconvert_exporter": "python",
   "pygments_lexer": "ipython3",
   "version": "3.9.12"
  }
 },
 "nbformat": 4,
 "nbformat_minor": 4
}
